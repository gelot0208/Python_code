{
 "cells": [
  {
   "cell_type": "code",
   "execution_count": 1,
   "id": "dec5af65-b106-4381-825e-28733119aa36",
   "metadata": {},
   "outputs": [
    {
     "name": "stdin",
     "output_type": "stream",
     "text": [
      "Enter a number: 5\n"
     ]
    },
    {
     "name": "stdout",
     "output_type": "stream",
     "text": [
      "odd mumber5\n"
     ]
    }
   ],
   "source": [
    "a = int(input(\"Enter a number:\"))\n",
    "if (a%2==0):\n",
    "    print(f\"even number{a}\")\n",
    "else:\n",
    "    print(f\"odd mumber{a}\")"
   ]
  },
  {
   "cell_type": "code",
   "execution_count": 2,
   "id": "b8d0545b-0f1e-472d-abee-365af71324a1",
   "metadata": {},
   "outputs": [
    {
     "name": "stdin",
     "output_type": "stream",
     "text": [
      "Enter a no a 25\n",
      "Enter a no b 45\n",
      "Enter a no c 78\n"
     ]
    },
    {
     "name": "stdout",
     "output_type": "stream",
     "text": [
      "78 is largest number\n"
     ]
    }
   ],
   "source": [
    "a = int(input(\"Enter a no a\"))\n",
    "b = int(input(\"Enter a no b\"))\n",
    "c = int(input(\"Enter a no c\"))\n",
    "if a>b and a>c:\n",
    "    print(f\"{a} is largest number\")\n",
    "elif b>a and b>c:\n",
    "    print(f\"{b} is largest number\")\n",
    "else:\n",
    "    print(f\"{c} is largest number\")"
   ]
  },
  {
   "cell_type": "code",
   "execution_count": 3,
   "id": "d837b40b-fdae-49ba-93c7-a3f9d1ac11a4",
   "metadata": {},
   "outputs": [
    {
     "name": "stdin",
     "output_type": "stream",
     "text": [
      "Enter a number: 71\n"
     ]
    },
    {
     "name": "stdout",
     "output_type": "stream",
     "text": [
      "IT is prime number:\n"
     ]
    }
   ],
   "source": [
    "# Write a Python program to check if a number is prime\n",
    "a = int(input(\"Enter a number:\"))\n",
    "\n",
    "if a<=1:\n",
    "    print(\"Not a prime number\")\n",
    "else:\n",
    "    for i in range(2,a):\n",
    "        if a % i == 0:\n",
    "            print(\"not a prime no:\")\n",
    "            break\n",
    "        else:\n",
    "            print(\"IT is prime number:\")\n",
    "            break"
   ]
  },
  {
   "cell_type": "code",
   "execution_count": 6,
   "id": "6bfc9035-9690-46bc-9fa9-c654758cb8df",
   "metadata": {},
   "outputs": [
    {
     "name": "stdin",
     "output_type": "stream",
     "text": [
      "Enter a number 9\n"
     ]
    },
    {
     "name": "stdout",
     "output_type": "stream",
     "text": [
      "9 * 1 = 9\n",
      "9 * 2 = 18\n",
      "9 * 3 = 27\n",
      "9 * 4 = 36\n",
      "9 * 5 = 45\n",
      "9 * 6 = 54\n",
      "9 * 7 = 63\n",
      "9 * 8 = 72\n",
      "9 * 9 = 81\n",
      "9 * 10 = 90\n"
     ]
    }
   ],
   "source": [
    "# Write a Python program to print the multiplication table of a number.\n",
    "a = int(input(\"Enter a number\"))\n",
    "for i in range(1,11):\n",
    "    print(a,\"*\",i,\"=\",a*i)\n"
   ]
  },
  {
   "cell_type": "code",
   "execution_count": 19,
   "id": "041a4b2c-298d-4aeb-848f-01145858bbd6",
   "metadata": {},
   "outputs": [
    {
     "name": "stdin",
     "output_type": "stream",
     "text": [
      "Enter a number: 5\n"
     ]
    },
    {
     "name": "stdout",
     "output_type": "stream",
     "text": [
      "1\n",
      "2\n",
      "6\n",
      "24\n",
      "120\n"
     ]
    }
   ],
   "source": [
    "# Write a Python program to find the factorial of a number.\n",
    "a = int(input(\"Enter a number:\"))\n",
    "if a < 0:\n",
    "    print(\"Does not have factorial\")\n",
    "elif a == 0:\n",
    "    print(\"it get a 1\")\n",
    "else:\n",
    "    fact = 1\n",
    "    for i in range(1,a+1):\n",
    "      fact = fact*i\n",
    "      print(fact)\n",
    "    "
   ]
  },
  {
   "cell_type": "code",
   "execution_count": 22,
   "id": "4933dd3b-f6a3-42b2-809e-1d5d9fb3b6e5",
   "metadata": {},
   "outputs": [
    {
     "name": "stdin",
     "output_type": "stream",
     "text": [
      "Enter a string: sidharth\n"
     ]
    },
    {
     "name": "stdout",
     "output_type": "stream",
     "text": [
      "htrahdis\n"
     ]
    }
   ],
   "source": [
    "# Write a Python program to reverse a string\n",
    "a = str(input(\"Enter a string:\"))\n",
    "print(a[::-1])"
   ]
  },
  {
   "cell_type": "code",
   "execution_count": 23,
   "id": "4c7d634c-e144-4472-bc21-2ad7ddd3433d",
   "metadata": {},
   "outputs": [
    {
     "name": "stdin",
     "output_type": "stream",
     "text": [
      "Enter a string radar\n"
     ]
    },
    {
     "name": "stdout",
     "output_type": "stream",
     "text": [
      "radar is a palindrome\n"
     ]
    }
   ],
   "source": [
    "# Write a Python program to check if a string is a palindrome.\n",
    "a = str(input(\"Enter a string\"))\n",
    "if a.lower() == a[::-1].lower():\n",
    "    print(f\"{a} is a palindrome\")\n",
    "else:\n",
    "    print(f\"{a} is not a palindrome\")"
   ]
  },
  {
   "cell_type": "code",
   "execution_count": 34,
   "id": "c15adaa9-6aa1-431f-a0b3-be444ba4dc27",
   "metadata": {},
   "outputs": [
    {
     "name": "stdin",
     "output_type": "stream",
     "text": [
      "Enter a word sidd\n"
     ]
    },
    {
     "name": "stdout",
     "output_type": "stream",
     "text": [
      "1\n"
     ]
    }
   ],
   "source": [
    "# Write a Python program to count the number of vowels in a string.\n",
    "a = str(input(\"Enter a word\"))\n",
    "vowels =\"aeiouAEIOU\"\n",
    "count = 0\n",
    "for i in a:\n",
    "    if i in vowels:\n",
    "        count  += 1\n",
    "print(count)\n"
   ]
  },
  {
   "cell_type": "code",
   "execution_count": 35,
   "id": "cf4a74c5-91df-407d-89ce-5545c4049e30",
   "metadata": {},
   "outputs": [
    {
     "name": "stdin",
     "output_type": "stream",
     "text": [
      "Enter a str sidd\n"
     ]
    },
    {
     "name": "stdout",
     "output_type": "stream",
     "text": [
      "4\n"
     ]
    }
   ],
   "source": [
    "# Write a Python program to find the length of a string.\n",
    "a = input(\"Enter a str\")\n",
    "print(len(a))"
   ]
  },
  {
   "cell_type": "code",
   "execution_count": 41,
   "id": "53584a77-2e7c-47c9-a511-013bcd2f1bab",
   "metadata": {},
   "outputs": [
    {
     "name": "stdin",
     "output_type": "stream",
     "text": [
      "Enter a number: 45\n"
     ]
    },
    {
     "name": "stdout",
     "output_type": "stream",
     "text": [
      "9\n"
     ]
    }
   ],
   "source": [
    "# Write a Python program to find the sum of digits in a number.\n",
    "a = input(\"Enter a number:\")\n",
    "sod = 0\n",
    "for i in a:\n",
    "    sod += int(i)\n",
    "print(sod)"
   ]
  },
  {
   "cell_type": "code",
   "execution_count": 42,
   "id": "b61b54f3-1204-4a6f-b583-af3c4177e9ab",
   "metadata": {},
   "outputs": [
    {
     "name": "stdin",
     "output_type": "stream",
     "text": [
      "Enter a number a: 5\n",
      "Enter a number b: 7\n"
     ]
    },
    {
     "name": "stdout",
     "output_type": "stream",
     "text": [
      "GCd 1\n"
     ]
    }
   ],
   "source": [
    "#Write a Python program to find the greatest common divisor (GCD) of two numbers.\n",
    "import math\n",
    "a = int(input(\"Enter a number a:\"))\n",
    "b = int(input(\"Enter a number b:\"))\n",
    "\n",
    "print(\"GCd\",math.gcd(a,b))"
   ]
  },
  {
   "cell_type": "code",
   "execution_count": 43,
   "id": "b5cae16c-e1e2-4530-b983-132cd7063b8f",
   "metadata": {},
   "outputs": [
    {
     "data": {
      "text/plain": [
       "10.658"
      ]
     },
     "execution_count": 43,
     "metadata": {},
     "output_type": "execute_result"
    }
   ],
   "source": [
    "abs(10.658)"
   ]
  },
  {
   "cell_type": "code",
   "execution_count": 44,
   "id": "17e23b63-297a-465a-a813-0153a90de985",
   "metadata": {},
   "outputs": [
    {
     "data": {
      "text/plain": [
       "22.2"
      ]
     },
     "execution_count": 44,
     "metadata": {},
     "output_type": "execute_result"
    }
   ],
   "source": [
    "abs(22.20)"
   ]
  },
  {
   "cell_type": "code",
   "execution_count": 45,
   "id": "86514f97-3a09-4277-ab3f-c288a838db9d",
   "metadata": {},
   "outputs": [
    {
     "name": "stdin",
     "output_type": "stream",
     "text": [
      "Enter a number 4\n",
      "Enter a number 7\n"
     ]
    },
    {
     "name": "stdout",
     "output_type": "stream",
     "text": [
      "LCM 11\n"
     ]
    }
   ],
   "source": [
    "a = int(input(\"Enter a number\"))\n",
    "b = int(input(\"Enter a number\"))\n",
    "print(\"LCM\",abs(a+b)//math.gcd(a,b))"
   ]
  },
  {
   "cell_type": "code",
   "execution_count": 1,
   "id": "912bded0-4c45-4f18-8d10-d3faf003e52a",
   "metadata": {},
   "outputs": [
    {
     "name": "stdin",
     "output_type": "stream",
     "text": [
      "Enter a no a 5\n",
      "enter a no b 78\n"
     ]
    },
    {
     "name": "stdout",
     "output_type": "stream",
     "text": [
      "After Swapping\n",
      "A become78\n",
      "B become5\n"
     ]
    }
   ],
   "source": [
    "# Write a Python program to swap two numbers without using a temporary variable.\n",
    "a = int(input(\"Enter a no a\"))\n",
    "b = int(input(\"enter a no b\"))\n",
    "a = a+b\n",
    "b = a-b\n",
    "a = a-b\n",
    "print(f\"After Swapping\")\n",
    "print(f\"A become{a}\")\n",
    "print(f\"B become{b}\")"
   ]
  },
  {
   "cell_type": "code",
   "execution_count": 2,
   "id": "e61eb759-d410-4069-bdfc-3e14daa7a67c",
   "metadata": {},
   "outputs": [
    {
     "name": "stdin",
     "output_type": "stream",
     "text": [
      "Enter a celsius 52.65\n"
     ]
    },
    {
     "name": "stdout",
     "output_type": "stream",
     "text": [
      "52.65 celsius is equal to fah 126.77\n"
     ]
    }
   ],
   "source": [
    "# Write a Python program to convert Celsius to Fahrenheit.\n",
    "celsius = float(input(\"Enter a celsius\"))\n",
    "fah = (celsius* 9/5)+32\n",
    "print(f\"{celsius} celsius is equal to fah {fah}\")"
   ]
  },
  {
   "cell_type": "code",
   "execution_count": 3,
   "id": "73995b45-5f07-4496-9722-c8afde664a0a",
   "metadata": {},
   "outputs": [
    {
     "name": "stdin",
     "output_type": "stream",
     "text": [
      "Enter a km: 78\n"
     ]
    },
    {
     "name": "stdout",
     "output_type": "stream",
     "text": [
      "78.0 is equal to miles 48.4614 \n"
     ]
    }
   ],
   "source": [
    "# Write a Python program to convert Celsius to Fahrenheit.\n",
    "km  = float(input(\"Enter a km:\"))\n",
    "m = km * .6213\n",
    "print(f\"{km} is equal to miles {m} \")"
   ]
  },
  {
   "cell_type": "code",
   "execution_count": 6,
   "id": "356f0e7d-7fb3-4982-ae31-daf56d5db77b",
   "metadata": {},
   "outputs": [
    {
     "name": "stdin",
     "output_type": "stream",
     "text": [
      "Enter a char s\n"
     ]
    },
    {
     "name": "stdout",
     "output_type": "stream",
     "text": [
      "Value of s is 115\n"
     ]
    }
   ],
   "source": [
    "# Write a Python program to find the ASCII value of a character.\n",
    "char = input(\"Enter a char\")\n",
    "if len(char) != 1:\n",
    "    print(\"Enter only one character\")\n",
    "else:\n",
    "    ascii_value = ord(char)\n",
    "print(f\"Value of {char} is {ascii_value}\")"
   ]
  },
  {
   "cell_type": "code",
   "execution_count": 10,
   "id": "c411631e-1bcc-4e14-89bf-275a9af315a8",
   "metadata": {},
   "outputs": [
    {
     "name": "stdin",
     "output_type": "stream",
     "text": [
      "Enter a year 2022\n"
     ]
    },
    {
     "name": "stdout",
     "output_type": "stream",
     "text": [
      "not a leap year\n"
     ]
    }
   ],
   "source": [
    "# Write a Python program to check if a year is a leap year.\n",
    "year  = int(input(\"Enter a year\"))\n",
    "if(year % 4 == 0):\n",
    "    print(\"It is a leap year\")\n",
    "else:\n",
    "    print(\"not a leap year\")"
   ]
  },
  {
   "cell_type": "code",
   "execution_count": 12,
   "id": "a26981d3-f32c-43f1-9599-5ea1841f1cad",
   "metadata": {},
   "outputs": [
    {
     "name": "stdout",
     "output_type": "stream",
     "text": [
      "[1, 4, 6, 9, 9, 74, 78, 777]\n"
     ]
    }
   ],
   "source": [
    "# Write a Python program to sort a list in ascending order.\n",
    "lst = [1,4,9,9,6,78,74,777]\n",
    "print(sorted(lst))"
   ]
  },
  {
   "cell_type": "code",
   "execution_count": 15,
   "id": "208d58b4-326a-4e8d-802b-4041954823f7",
   "metadata": {},
   "outputs": [
    {
     "name": "stdin",
     "output_type": "stream",
     "text": [
      "Enter a number here: 55,5,5,56,68,5,23,5,45\n"
     ]
    },
    {
     "name": "stdout",
     "output_type": "stream",
     "text": [
      "[5, 5, 5, 5, 23, 45, 55, 56, 68]\n"
     ]
    }
   ],
   "source": [
    "# Write a Python program to sort a list in ascending order.\n",
    "lst = list(map(int,input(\"Enter a number here:\").split(\",\")))\n",
    "print(sorted(lst))"
   ]
  },
  {
   "cell_type": "code",
   "execution_count": 16,
   "id": "54305590-ca44-4220-8a22-f71ecf83ceb0",
   "metadata": {},
   "outputs": [
    {
     "name": "stdin",
     "output_type": "stream",
     "text": [
      "Enter a list: 45,78,85,96,78,74,85,45\n"
     ]
    },
    {
     "name": "stdout",
     "output_type": "stream",
     "text": [
      "85\n"
     ]
    }
   ],
   "source": [
    "# Write a Python program to find the second largest element in a list.\n",
    "lst = list(map(int,input(\"Enter a list:\").split(\",\")))\n",
    "print(sorted(lst)[-2])"
   ]
  },
  {
   "cell_type": "code",
   "execution_count": 17,
   "id": "86813712-fea3-448a-b1f9-f6122e1e775e",
   "metadata": {},
   "outputs": [
    {
     "name": "stdin",
     "output_type": "stream",
     "text": [
      "Enter a list 1,2,3,4,5\n"
     ]
    },
    {
     "name": "stdout",
     "output_type": "stream",
     "text": [
      "15\n"
     ]
    }
   ],
   "source": [
    "#Write a Python program to find the sum of elements in a list.\n",
    "lst = list(map(int,input(\"Enter a list\").split(\",\")))\n",
    "print(sum(lst))"
   ]
  },
  {
   "cell_type": "code",
   "execution_count": 20,
   "id": "70c9239c-75c8-4cf0-b3e2-b6395ccf179a",
   "metadata": {},
   "outputs": [
    {
     "name": "stdin",
     "output_type": "stream",
     "text": [
      "Enter a list: 1 2 3 45 6\n"
     ]
    },
    {
     "name": "stdout",
     "output_type": "stream",
     "text": [
      "11.4\n"
     ]
    }
   ],
   "source": [
    "#Write a Python program to find the average of numbers in a list.\n",
    "lst = list(map(int,input(\"Enter a list:\").split()))\n",
    "print(sum(lst)/len(lst))"
   ]
  },
  {
   "cell_type": "code",
   "execution_count": 21,
   "id": "932e0f0a-8ea0-4c1e-bf43-85b2cae11241",
   "metadata": {},
   "outputs": [
    {
     "name": "stdin",
     "output_type": "stream",
     "text": [
      "Enter a list: 1 1 2 2 2 23 23 25 52  5 2 55\n",
      "enter a element 2\n"
     ]
    },
    {
     "name": "stdout",
     "output_type": "stream",
     "text": [
      "2 element occur this much time 4\n"
     ]
    }
   ],
   "source": [
    "#Write a Python program to count the occurrences of an element in a list.\n",
    "lst = list(map(int,input(\"Enter a list:\").split()))\n",
    "element = int(input(\"enter a element\"))\n",
    "o_no = lst.count(element)\n",
    "print(f\"{element} element occur this much time {o_no}\")"
   ]
  },
  {
   "cell_type": "code",
   "execution_count": 23,
   "id": "72b3543a-45e2-4870-9f5e-6727176e17c8",
   "metadata": {},
   "outputs": [
    {
     "name": "stdin",
     "output_type": "stream",
     "text": [
      "Enter a lst: 1 1 1 1 1 25 45\n"
     ]
    },
    {
     "name": "stdout",
     "output_type": "stream",
     "text": [
      "[1, 25, 45]\n"
     ]
    }
   ],
   "source": [
    "#Write a Python program to remove duplicates from a list.\n",
    "lst = list(map(int,input(\"Enter a lst:\").split()))\n",
    "unq = []\n",
    "for item in lst:\n",
    "    if item not in unq:\n",
    "        unq.append(item)\n",
    "print(unq)"
   ]
  },
  {
   "cell_type": "code",
   "execution_count": 25,
   "id": "112562f9-16cc-4542-ae0b-1272e3d4724e",
   "metadata": {},
   "outputs": [
    {
     "name": "stdout",
     "output_type": "stream",
     "text": [
      "{'a': 1, 'b': 2, 'c': 3, 'd': 4}\n"
     ]
    }
   ],
   "source": [
    "# Write a Python program to merge two dictionaries.\n",
    "a = {\"a\":1,\"b\":2}\n",
    "b = {\"c\":3,\"d\":4}\n",
    "a.update(b)\n",
    "print(a)"
   ]
  },
  {
   "cell_type": "code",
   "execution_count": 26,
   "id": "71be4bd1-3661-4743-86fb-4268544940bf",
   "metadata": {},
   "outputs": [
    {
     "name": "stdout",
     "output_type": "stream",
     "text": [
      "c\n"
     ]
    }
   ],
   "source": [
    "# Write a Python program to find the key with the maximum value in a dictionary\n",
    "a = {\"a\":1,\"b\":2,\"c\":3}\n",
    "maxi = max(a,key=a.get)\n",
    "print(maxi)"
   ]
  },
  {
   "cell_type": "code",
   "execution_count": 27,
   "id": "c04b408c-031c-487b-92d6-1cee048ee3ff",
   "metadata": {},
   "outputs": [
    {
     "name": "stdin",
     "output_type": "stream",
     "text": [
      "Enter a key: Relationship status\n"
     ]
    },
    {
     "name": "stdout",
     "output_type": "stream",
     "text": [
      "key is in my dict\n"
     ]
    }
   ],
   "source": [
    "# Write a Python program to check if a key exists in a dictionary.\n",
    "my_dict = {\"Name\":\"Siddharth\",\"Age\":21,\"Relationship status\":\"Confusing status\"}\n",
    "key = str(input(\"Enter a key:\"))\n",
    "if key in my_dict:\n",
    "    print(\"key is in my dict\")\n",
    "else:\n",
    "    print(\"key is not in my dict\")"
   ]
  },
  {
   "cell_type": "code",
   "execution_count": 32,
   "id": "ae5675dd-f8b1-4649-9f84-ad6aaba40e78",
   "metadata": {},
   "outputs": [
    {
     "name": "stdin",
     "output_type": "stream",
     "text": [
      "Enter a number: 25\n"
     ]
    },
    {
     "name": "stdout",
     "output_type": "stream",
     "text": [
      "Enter a fibonacii seqeuce 25 :\n",
      "01123581321"
     ]
    }
   ],
   "source": [
    "#Write a Python program to print the Fibonacci sequence up to a given number.\n",
    "number = int(input(\"Enter a number:\"))\n",
    "a,b = 0,1\n",
    "print(\"Enter a fibonacii seqeuce\",number,\":\")\n",
    "while a <= number:\n",
    "    print(a,end=\"\")\n",
    "    a,b = b,a+b"
   ]
  },
  {
   "cell_type": "code",
   "execution_count": 33,
   "id": "51a616b9-f266-43d3-a89c-599ece6defa4",
   "metadata": {},
   "outputs": [
    {
     "name": "stdin",
     "output_type": "stream",
     "text": [
      "Enter a list: 1 2 3 4 5\n"
     ]
    },
    {
     "name": "stdout",
     "output_type": "stream",
     "text": [
      "120\n"
     ]
    }
   ],
   "source": [
    "# Write a Python program to calculate the sum of a list using recursion.\n",
    "lst = list(map(int,input(\"Enter a list:\").split()))\n",
    "fact = 1\n",
    "for i in lst:\n",
    "    fact = fact*i\n",
    "print(fact)"
   ]
  },
  {
   "cell_type": "code",
   "execution_count": 34,
   "id": "affdbc1a-06e5-46f0-b663-cae5676bf67c",
   "metadata": {},
   "outputs": [
    {
     "name": "stdin",
     "output_type": "stream",
     "text": [
      "Enter a list 58,45,78,855,85,89,52,52,54,54,74,741\n"
     ]
    },
    {
     "name": "stdout",
     "output_type": "stream",
     "text": [
      "855\n",
      "45\n"
     ]
    }
   ],
   "source": [
    "# Write a Python program to find the minimum and maximum elements in a list.\n",
    "my_list = list(map(int,input(\"Enter a list\").split(\",\")))\n",
    "print(max(my_list))\n",
    "print(min(my_list))"
   ]
  },
  {
   "cell_type": "code",
   "execution_count": 37,
   "id": "9feb3527-72eb-43e8-847f-4802bb809835",
   "metadata": {},
   "outputs": [
    {
     "name": "stdin",
     "output_type": "stream",
     "text": [
      "Enter value of s1 listen\n",
      "Enter value of s2 silent\n"
     ]
    },
    {
     "name": "stdout",
     "output_type": "stream",
     "text": [
      "It is anagaram\n"
     ]
    }
   ],
   "source": [
    "#Write a Python program to check if a string is an anagram of another string.\n",
    "\n",
    "s1 = input(\"Enter value of s1\").replace(\" \",\"\").lower()\n",
    "s2 = input(\"Enter value of s2\").replace(\" \",\"\").lower()\n",
    "\n",
    "if sorted(s1) == sorted(s2):\n",
    "    print(\"It is anagaram\")\n",
    "else:\n",
    "    print(\"it is not anagaram\")"
   ]
  },
  {
   "cell_type": "code",
   "execution_count": 38,
   "id": "5ae4e43e-a037-43ff-944a-897f215820ef",
   "metadata": {},
   "outputs": [
    {
     "name": "stdin",
     "output_type": "stream",
     "text": [
      "Enter a char: siddharth\n"
     ]
    },
    {
     "name": "stdout",
     "output_type": "stream",
     "text": [
      "character frequncies:\n",
      "s:1\n",
      "i:1\n",
      "d:2\n",
      "h:2\n",
      "a:1\n",
      "r:1\n",
      "t:1\n"
     ]
    }
   ],
   "source": [
    "# Write a Python program to count the frequency of characters in a string.\n",
    "string = str(input(\"Enter a char:\"))\n",
    "freq = {}\n",
    "for char in string:\n",
    "    if char in freq:\n",
    "        freq[char] += 1\n",
    "    else:\n",
    "        freq[char] = 1\n",
    "print(\"character frequncies:\")\n",
    "for key,value in freq.items():\n",
    "    print(f\"{key}:{value}\")\n",
    "    "
   ]
  },
  {
   "cell_type": "code",
   "execution_count": 39,
   "id": "16b25861-7ffb-460b-b816-d92dd16e7d9a",
   "metadata": {},
   "outputs": [
    {
     "name": "stdin",
     "output_type": "stream",
     "text": [
      "Enter a list: 1,2,2,2,2,4,4,5,5\n"
     ]
    },
    {
     "name": "stdout",
     "output_type": "stream",
     "text": [
      "[1, 2, 4, 5]\n"
     ]
    }
   ],
   "source": [
    "#Write a Python program to find all unique elements in a list.\n",
    "lst = list(map(int,input(\"Enter a list:\").split(\",\")))\n",
    "unique = []\n",
    "for i in lst:\n",
    "    if i not in unique:\n",
    "        unique.append(i)\n",
    "print(unique)"
   ]
  },
  {
   "cell_type": "code",
   "execution_count": 48,
   "id": "3977c6dc-8462-418b-bfe1-59a66ba98ddf",
   "metadata": {},
   "outputs": [
    {
     "name": "stdin",
     "output_type": "stream",
     "text": [
      "Enter a list 1,2,3,4,5,6\n",
      "Enter a list 6,5,7\n"
     ]
    },
    {
     "name": "stdout",
     "output_type": "stream",
     "text": [
      "[5, 6]\n"
     ]
    }
   ],
   "source": [
    "#Write a Python program to find the intersection of two lists.\n",
    "list_1 = list(map(int,input(\"Enter a list\").split(\",\")))\n",
    "list_2 = list(map(int,input(\"Enter a list\").split(\",\")))\n",
    "my_list  = list(set(list_1) & set(list_2))\n",
    "print(my_list)"
   ]
  },
  {
   "cell_type": "code",
   "execution_count": 51,
   "id": "83f8e66a-26e4-4441-a676-5e03d6c4895d",
   "metadata": {},
   "outputs": [
    {
     "name": "stdin",
     "output_type": "stream",
     "text": [
      "Enter a lst: 1,1,1,1,2,2,2,3,3,5,5\n",
      "Enter a elemnet: 2\n"
     ]
    },
    {
     "name": "stdout",
     "output_type": "stream",
     "text": [
      "[1, 1, 1, 1, 3, 3, 5, 5]\n"
     ]
    }
   ],
   "source": [
    "#Write a Python program to remove all occurrences of a specific element from a list.\n",
    "lst = list(map(int,input(\"Enter a lst:\").split(\",\")))\n",
    "element = int(input(\"Enter a elemnet:\"))\n",
    "while element in lst:\n",
    "    lst.remove(element)\n",
    "print(lst)"
   ]
  },
  {
   "cell_type": "code",
   "execution_count": 54,
   "id": "46efeafa-1225-4c16-8236-211fb1c7d3f1",
   "metadata": {},
   "outputs": [
    {
     "name": "stdin",
     "output_type": "stream",
     "text": [
      "enter: 1,7,8,9,5,7\n"
     ]
    },
    {
     "name": "stdout",
     "output_type": "stream",
     "text": [
      "not sorted\n",
      "[1, 5, 7, 7, 8, 9]\n"
     ]
    }
   ],
   "source": [
    "#Write a Python program to check if a list is sorted.\n",
    "lst = list(map(int,input(\"enter:\").split(\",\")))\n",
    "if lst == sorted(lst):\n",
    "    print(\"Sorted list\")\n",
    "else:\n",
    "    print(\"not sorted\")\n",
    "print(sorted(lst))"
   ]
  },
  {
   "cell_type": "code",
   "execution_count": 55,
   "id": "51a35deb-a4b1-4bff-80ee-2baaddcd41e1",
   "metadata": {},
   "outputs": [
    {
     "name": "stdin",
     "output_type": "stream",
     "text": [
      "Enter a start number: 5\n",
      "Enter a end number: 55\n"
     ]
    },
    {
     "name": "stdout",
     "output_type": "stream",
     "text": [
      "the random  number between 5 55 is 39\n"
     ]
    }
   ],
   "source": [
    "# Write a Python program to generate random numbers within a range\n",
    "import random\n",
    "\n",
    "start = int(input(\"Enter a start number:\"))\n",
    "end = int(input(\"Enter a end number:\"))\n",
    "\n",
    "random_number = random.randint(start,end)\n",
    "print(f\"the random  number between {start} {end} is {random_number}\")"
   ]
  },
  {
   "cell_type": "code",
   "execution_count": 56,
   "id": "893a5762-2c03-48ce-afd1-4e6f1f8eb2da",
   "metadata": {},
   "outputs": [],
   "source": [
    "#Write a Python program to calculate the power of a number using recursion\n"
   ]
  },
  {
   "cell_type": "code",
   "execution_count": 57,
   "id": "56c241f9-d4d3-40e6-9cd5-3253230810a9",
   "metadata": {},
   "outputs": [
    {
     "name": "stdin",
     "output_type": "stream",
     "text": [
      "Enter a decimal number: 54\n"
     ]
    },
    {
     "name": "stdout",
     "output_type": "stream",
     "text": [
      " 110110\n"
     ]
    }
   ],
   "source": [
    "#Write a Python program to convert a decimal number to binary.\n",
    "decimal = int(input(\"Enter a decimal number:\"))\n",
    "\n",
    "binary = bin(decimal).replace(\"0b\",\" \")\n",
    "print(binary)"
   ]
  },
  {
   "cell_type": "code",
   "execution_count": 59,
   "id": "00e907b6-1135-4602-bc77-445d333ef28e",
   "metadata": {},
   "outputs": [
    {
     "name": "stdin",
     "output_type": "stream",
     "text": [
      "Enter a binary no: 110110\n"
     ]
    },
    {
     "name": "stdout",
     "output_type": "stream",
     "text": [
      "54\n"
     ]
    }
   ],
   "source": [
    "#Write a Python program to convert a binary number to decimal.\n",
    "binary = (input(\"Enter a binary no:\"))\n",
    "\n",
    "decimal = int(binary,2)\n",
    "print(decimal)"
   ]
  },
  {
   "cell_type": "code",
   "execution_count": 62,
   "id": "186ef505-f01c-4d5d-a055-df4ce47ca07e",
   "metadata": {},
   "outputs": [
    {
     "name": "stdin",
     "output_type": "stream",
     "text": [
      "Enter a list: 1 2 3 4 5 6 7 8\n"
     ]
    },
    {
     "name": "stdout",
     "output_type": "stream",
     "text": [
      "20\n",
      "16\n"
     ]
    }
   ],
   "source": [
    "#Write a Python program to find the sum of even and odd numbers in a list.\n",
    "lst = list(map(int,input(\"Enter a list:\").split()))\n",
    "even = []\n",
    "odd = []\n",
    "for num in lst:\n",
    "    if num % 2 == 0:\n",
    "        even.append(num)\n",
    "    else:\n",
    "        odd.append(num)\n",
    "print(sum(even))\n",
    "print(sum(odd))      \n"
   ]
  },
  {
   "cell_type": "code",
   "execution_count": 64,
   "id": "7e55cb97-a7a5-49eb-a331-80fb6d3ede9f",
   "metadata": {},
   "outputs": [
    {
     "name": "stdin",
     "output_type": "stream",
     "text": [
      "Enter a string sid is good boy\n"
     ]
    },
    {
     "name": "stdout",
     "output_type": "stream",
     "text": [
      "4\n"
     ]
    }
   ],
   "source": [
    "#Write a Python program to count the number of words in a string.\n",
    "string = input(\"Enter a string\")\n",
    "word  = string.split()\n",
    "print(len(word))"
   ]
  },
  {
   "cell_type": "code",
   "execution_count": 65,
   "id": "b5b74a15-2018-4070-81f5-192c589a429f",
   "metadata": {},
   "outputs": [
    {
     "name": "stdin",
     "output_type": "stream",
     "text": [
      "Enter a text siddharth is good boy\n"
     ]
    },
    {
     "name": "stdout",
     "output_type": "stream",
     "text": [
      "Siddharth Is Good Boy\n"
     ]
    }
   ],
   "source": [
    "#Write a Python program to capitalize the first letter of every word in a string.\n",
    "text = input(\"Enter a text\")\n",
    "cap_text = text.title()\n",
    "print(cap_text)"
   ]
  },
  {
   "cell_type": "code",
   "execution_count": 67,
   "id": "fd1ef0ef-a51c-4a87-ae7a-3bb3c6fe504b",
   "metadata": {},
   "outputs": [
    {
     "name": "stdin",
     "output_type": "stream",
     "text": [
      "Enter a text siddharth gelot is   good b   oy\n"
     ]
    },
    {
     "name": "stdout",
     "output_type": "stream",
     "text": [
      "siddharth gelot is  good b  oy\n"
     ]
    }
   ],
   "source": [
    "# Write a Python program to remove whitespace from a string.\n",
    "\n",
    "text = input(\"Enter a text\")\n",
    "without_space = text.replace(\"  \",\" \")\n",
    "print(without_space)"
   ]
  },
  {
   "cell_type": "code",
   "execution_count": 70,
   "id": "a23549c0-631c-41e1-a5fd-1dfc007d92e9",
   "metadata": {},
   "outputs": [
    {
     "name": "stdin",
     "output_type": "stream",
     "text": [
      "Enter a list: 2 2 2\n"
     ]
    },
    {
     "name": "stdout",
     "output_type": "stream",
     "text": [
      "8\n"
     ]
    }
   ],
   "source": [
    "#Write a Python program to calculate the product of elements in a list.\n",
    "lst = list(map(int,input(\"Enter a list:\").split()))\n",
    "count = 1\n",
    "for i in lst:\n",
    "    count *= i\n",
    "print(count)"
   ]
  },
  {
   "cell_type": "code",
   "execution_count": 72,
   "id": "ef465beb-a5b0-46ca-9773-a94a47faac51",
   "metadata": {},
   "outputs": [
    {
     "name": "stdin",
     "output_type": "stream",
     "text": [
      "Enter a start no 25\n",
      "Enter a end no 125\n"
     ]
    },
    {
     "name": "stdout",
     "output_type": "stream",
     "text": [
      "[25, 27, 29, 31, 33, 35, 37, 39, 41, 43, 45, 47, 49, 51, 53, 55, 57, 59, 61, 63, 65, 67, 69, 71, 73, 75, 77, 79, 81, 83, 85, 87, 89, 91, 93, 95, 97, 99, 101, 103, 105, 107, 109, 111, 113, 115, 117, 119, 121, 123]\n"
     ]
    }
   ],
   "source": [
    "#Write a Python program to find all prime numbers in a given range.\n",
    "start = int(input(\"Enter a start no\"))\n",
    "end = int(input(\"Enter a end no\"))\n",
    "prime = []\n",
    "for i in range(start,end):\n",
    "    if i > 1:\n",
    "        for num in range(2,i):\n",
    "            if i % num == 0:\n",
    "                break\n",
    "            else:\n",
    "                prime.append(i)\n",
    "                break\n",
    "print(prime)"
   ]
  },
  {
   "cell_type": "code",
   "execution_count": 73,
   "id": "2d0078ee-9a5c-44e1-91bc-6169fe54c949",
   "metadata": {},
   "outputs": [
    {
     "name": "stdin",
     "output_type": "stream",
     "text": [
      "Enter a lst 1 2 1 1 1 2\n"
     ]
    },
    {
     "name": "stdout",
     "output_type": "stream",
     "text": [
      "1\n"
     ]
    }
   ],
   "source": [
    "# Write a Python program to find the most frequent element in a list.\n",
    "lst = list(map(int,input(\"Enter a lst\").split()))\n",
    "frequect = max(lst,key=lst.count)\n",
    "print(frequect)"
   ]
  },
  {
   "cell_type": "markdown",
   "id": "865fe58a-9623-4f7f-80f4-a9e43976fa61",
   "metadata": {},
   "source": [
    "# list"
   ]
  },
  {
   "cell_type": "code",
   "execution_count": 74,
   "id": "01d26165-14d1-4fe8-bd84-4f0d606f7375",
   "metadata": {},
   "outputs": [
    {
     "name": "stdout",
     "output_type": "stream",
     "text": [
      "[1, 2, 3, 4, 5]\n"
     ]
    }
   ],
   "source": [
    "#Write a Python program to add an item to the end of a list.\n",
    "lst = [1,2,3,4]\n",
    "lst.append(5)\n",
    "print(lst)"
   ]
  },
  {
   "cell_type": "code",
   "execution_count": null,
   "id": "2ab05501-299d-4698-9223-4052dec5a231",
   "metadata": {},
   "outputs": [],
   "source": []
  }
 ],
 "metadata": {
  "kernelspec": {
   "display_name": "Python 3 (ipykernel)",
   "language": "python",
   "name": "python3"
  },
  "language_info": {
   "codemirror_mode": {
    "name": "ipython",
    "version": 3
   },
   "file_extension": ".py",
   "mimetype": "text/x-python",
   "name": "python",
   "nbconvert_exporter": "python",
   "pygments_lexer": "ipython3",
   "version": "3.12.7"
  }
 },
 "nbformat": 4,
 "nbformat_minor": 5
}
