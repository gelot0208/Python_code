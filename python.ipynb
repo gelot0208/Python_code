{
 "cells": [
  {
   "cell_type": "code",
   "execution_count": 1,
   "id": "dec5af65-b106-4381-825e-28733119aa36",
   "metadata": {},
   "outputs": [
    {
     "name": "stdin",
     "output_type": "stream",
     "text": [
      "Enter a number: 5\n"
     ]
    },
    {
     "name": "stdout",
     "output_type": "stream",
     "text": [
      "odd mumber5\n"
     ]
    }
   ],
   "source": [
    "a = int(input(\"Enter a number:\"))\n",
    "if (a%2==0):\n",
    "    print(f\"even number{a}\")\n",
    "else:\n",
    "    print(f\"odd mumber{a}\")"
   ]
  },
  {
   "cell_type": "code",
   "execution_count": 2,
   "id": "b8d0545b-0f1e-472d-abee-365af71324a1",
   "metadata": {},
   "outputs": [
    {
     "name": "stdin",
     "output_type": "stream",
     "text": [
      "Enter a no a 25\n",
      "Enter a no b 45\n",
      "Enter a no c 78\n"
     ]
    },
    {
     "name": "stdout",
     "output_type": "stream",
     "text": [
      "78 is largest number\n"
     ]
    }
   ],
   "source": [
    "a = int(input(\"Enter a no a\"))\n",
    "b = int(input(\"Enter a no b\"))\n",
    "c = int(input(\"Enter a no c\"))\n",
    "if a>b and a>c:\n",
    "    print(f\"{a} is largest number\")\n",
    "elif b>a and b>c:\n",
    "    print(f\"{b} is largest number\")\n",
    "else:\n",
    "    print(f\"{c} is largest number\")"
   ]
  },
  {
   "cell_type": "code",
   "execution_count": 3,
   "id": "d837b40b-fdae-49ba-93c7-a3f9d1ac11a4",
   "metadata": {},
   "outputs": [
    {
     "name": "stdin",
     "output_type": "stream",
     "text": [
      "Enter a number: 71\n"
     ]
    },
    {
     "name": "stdout",
     "output_type": "stream",
     "text": [
      "IT is prime number:\n"
     ]
    }
   ],
   "source": [
    "# Write a Python program to check if a number is prime\n",
    "a = int(input(\"Enter a number:\"))\n",
    "\n",
    "if a<=1:\n",
    "    print(\"Not a prime number\")\n",
    "else:\n",
    "    for i in range(2,a):\n",
    "        if a % i == 0:\n",
    "            print(\"not a prime no:\")\n",
    "            break\n",
    "        else:\n",
    "            print(\"IT is prime number:\")\n",
    "            break"
   ]
  },
  {
   "cell_type": "code",
   "execution_count": 6,
   "id": "6bfc9035-9690-46bc-9fa9-c654758cb8df",
   "metadata": {},
   "outputs": [
    {
     "name": "stdin",
     "output_type": "stream",
     "text": [
      "Enter a number 9\n"
     ]
    },
    {
     "name": "stdout",
     "output_type": "stream",
     "text": [
      "9 * 1 = 9\n",
      "9 * 2 = 18\n",
      "9 * 3 = 27\n",
      "9 * 4 = 36\n",
      "9 * 5 = 45\n",
      "9 * 6 = 54\n",
      "9 * 7 = 63\n",
      "9 * 8 = 72\n",
      "9 * 9 = 81\n",
      "9 * 10 = 90\n"
     ]
    }
   ],
   "source": [
    "# Write a Python program to print the multiplication table of a number.\n",
    "a = int(input(\"Enter a number\"))\n",
    "for i in range(1,11):\n",
    "    print(a,\"*\",i,\"=\",a*i)\n"
   ]
  },
  {
   "cell_type": "code",
   "execution_count": 19,
   "id": "041a4b2c-298d-4aeb-848f-01145858bbd6",
   "metadata": {},
   "outputs": [
    {
     "name": "stdin",
     "output_type": "stream",
     "text": [
      "Enter a number: 5\n"
     ]
    },
    {
     "name": "stdout",
     "output_type": "stream",
     "text": [
      "1\n",
      "2\n",
      "6\n",
      "24\n",
      "120\n"
     ]
    }
   ],
   "source": [
    "# Write a Python program to find the factorial of a number.\n",
    "a = int(input(\"Enter a number:\"))\n",
    "if a < 0:\n",
    "    print(\"Does not have factorial\")\n",
    "elif a == 0:\n",
    "    print(\"it get a 1\")\n",
    "else:\n",
    "    fact = 1\n",
    "    for i in range(1,a+1):\n",
    "      fact = fact*i\n",
    "      print(fact)\n",
    "    "
   ]
  },
  {
   "cell_type": "code",
   "execution_count": 22,
   "id": "4933dd3b-f6a3-42b2-809e-1d5d9fb3b6e5",
   "metadata": {},
   "outputs": [
    {
     "name": "stdin",
     "output_type": "stream",
     "text": [
      "Enter a string: sidharth\n"
     ]
    },
    {
     "name": "stdout",
     "output_type": "stream",
     "text": [
      "htrahdis\n"
     ]
    }
   ],
   "source": [
    "# Write a Python program to reverse a string\n",
    "a = str(input(\"Enter a string:\"))\n",
    "print(a[::-1])"
   ]
  },
  {
   "cell_type": "code",
   "execution_count": 23,
   "id": "4c7d634c-e144-4472-bc21-2ad7ddd3433d",
   "metadata": {},
   "outputs": [
    {
     "name": "stdin",
     "output_type": "stream",
     "text": [
      "Enter a string radar\n"
     ]
    },
    {
     "name": "stdout",
     "output_type": "stream",
     "text": [
      "radar is a palindrome\n"
     ]
    }
   ],
   "source": [
    "# Write a Python program to check if a string is a palindrome.\n",
    "a = str(input(\"Enter a string\"))\n",
    "if a.lower() == a[::-1].lower():\n",
    "    print(f\"{a} is a palindrome\")\n",
    "else:\n",
    "    print(f\"{a} is not a palindrome\")"
   ]
  },
  {
   "cell_type": "code",
   "execution_count": 34,
   "id": "c15adaa9-6aa1-431f-a0b3-be444ba4dc27",
   "metadata": {},
   "outputs": [
    {
     "name": "stdin",
     "output_type": "stream",
     "text": [
      "Enter a word sidd\n"
     ]
    },
    {
     "name": "stdout",
     "output_type": "stream",
     "text": [
      "1\n"
     ]
    }
   ],
   "source": [
    "# Write a Python program to count the number of vowels in a string.\n",
    "a = str(input(\"Enter a word\"))\n",
    "vowels =\"aeiouAEIOU\"\n",
    "count = 0\n",
    "for i in a:\n",
    "    if i in vowels:\n",
    "        count  += 1\n",
    "print(count)\n"
   ]
  },
  {
   "cell_type": "code",
   "execution_count": 35,
   "id": "cf4a74c5-91df-407d-89ce-5545c4049e30",
   "metadata": {},
   "outputs": [
    {
     "name": "stdin",
     "output_type": "stream",
     "text": [
      "Enter a str sidd\n"
     ]
    },
    {
     "name": "stdout",
     "output_type": "stream",
     "text": [
      "4\n"
     ]
    }
   ],
   "source": [
    "# Write a Python program to find the length of a string.\n",
    "a = input(\"Enter a str\")\n",
    "print(len(a))"
   ]
  },
  {
   "cell_type": "code",
   "execution_count": 41,
   "id": "53584a77-2e7c-47c9-a511-013bcd2f1bab",
   "metadata": {},
   "outputs": [
    {
     "name": "stdin",
     "output_type": "stream",
     "text": [
      "Enter a number: 45\n"
     ]
    },
    {
     "name": "stdout",
     "output_type": "stream",
     "text": [
      "9\n"
     ]
    }
   ],
   "source": [
    "# Write a Python program to find the sum of digits in a number.\n",
    "a = input(\"Enter a number:\")\n",
    "sod = 0\n",
    "for i in a:\n",
    "    sod += int(i)\n",
    "print(sod)"
   ]
  },
  {
   "cell_type": "code",
   "execution_count": 42,
   "id": "b61b54f3-1204-4a6f-b583-af3c4177e9ab",
   "metadata": {},
   "outputs": [
    {
     "name": "stdin",
     "output_type": "stream",
     "text": [
      "Enter a number a: 5\n",
      "Enter a number b: 7\n"
     ]
    },
    {
     "name": "stdout",
     "output_type": "stream",
     "text": [
      "GCd 1\n"
     ]
    }
   ],
   "source": [
    "#Write a Python program to find the greatest common divisor (GCD) of two numbers.\n",
    "import math\n",
    "a = int(input(\"Enter a number a:\"))\n",
    "b = int(input(\"Enter a number b:\"))\n",
    "\n",
    "print(\"GCd\",math.gcd(a,b))"
   ]
  },
  {
   "cell_type": "code",
   "execution_count": 43,
   "id": "b5cae16c-e1e2-4530-b983-132cd7063b8f",
   "metadata": {},
   "outputs": [
    {
     "data": {
      "text/plain": [
       "10.658"
      ]
     },
     "execution_count": 43,
     "metadata": {},
     "output_type": "execute_result"
    }
   ],
   "source": [
    "abs(10.658)"
   ]
  },
  {
   "cell_type": "code",
   "execution_count": 44,
   "id": "17e23b63-297a-465a-a813-0153a90de985",
   "metadata": {},
   "outputs": [
    {
     "data": {
      "text/plain": [
       "22.2"
      ]
     },
     "execution_count": 44,
     "metadata": {},
     "output_type": "execute_result"
    }
   ],
   "source": [
    "abs(22.20)"
   ]
  },
  {
   "cell_type": "code",
   "execution_count": 45,
   "id": "86514f97-3a09-4277-ab3f-c288a838db9d",
   "metadata": {},
   "outputs": [
    {
     "name": "stdin",
     "output_type": "stream",
     "text": [
      "Enter a number 4\n",
      "Enter a number 7\n"
     ]
    },
    {
     "name": "stdout",
     "output_type": "stream",
     "text": [
      "LCM 11\n"
     ]
    }
   ],
   "source": [
    "a = int(input(\"Enter a number\"))\n",
    "b = int(input(\"Enter a number\"))\n",
    "print(\"LCM\",abs(a+b)//math.gcd(a,b))"
   ]
  },
  {
   "cell_type": "code",
   "execution_count": 1,
   "id": "912bded0-4c45-4f18-8d10-d3faf003e52a",
   "metadata": {},
   "outputs": [
    {
     "name": "stdin",
     "output_type": "stream",
     "text": [
      "Enter a no a 5\n",
      "enter a no b 78\n"
     ]
    },
    {
     "name": "stdout",
     "output_type": "stream",
     "text": [
      "After Swapping\n",
      "A become78\n",
      "B become5\n"
     ]
    }
   ],
   "source": [
    "# Write a Python program to swap two numbers without using a temporary variable.\n",
    "a = int(input(\"Enter a no a\"))\n",
    "b = int(input(\"enter a no b\"))\n",
    "a = a+b\n",
    "b = a-b\n",
    "a = a-b\n",
    "print(f\"After Swapping\")\n",
    "print(f\"A become{a}\")\n",
    "print(f\"B become{b}\")"
   ]
  },
  {
   "cell_type": "code",
   "execution_count": 2,
   "id": "e61eb759-d410-4069-bdfc-3e14daa7a67c",
   "metadata": {},
   "outputs": [
    {
     "name": "stdin",
     "output_type": "stream",
     "text": [
      "Enter a celsius 52.65\n"
     ]
    },
    {
     "name": "stdout",
     "output_type": "stream",
     "text": [
      "52.65 celsius is equal to fah 126.77\n"
     ]
    }
   ],
   "source": [
    "# Write a Python program to convert Celsius to Fahrenheit.\n",
    "celsius = float(input(\"Enter a celsius\"))\n",
    "fah = (celsius* 9/5)+32\n",
    "print(f\"{celsius} celsius is equal to fah {fah}\")"
   ]
  },
  {
   "cell_type": "code",
   "execution_count": 3,
   "id": "73995b45-5f07-4496-9722-c8afde664a0a",
   "metadata": {},
   "outputs": [
    {
     "name": "stdin",
     "output_type": "stream",
     "text": [
      "Enter a km: 78\n"
     ]
    },
    {
     "name": "stdout",
     "output_type": "stream",
     "text": [
      "78.0 is equal to miles 48.4614 \n"
     ]
    }
   ],
   "source": [
    "# Write a Python program to convert Celsius to Fahrenheit.\n",
    "km  = float(input(\"Enter a km:\"))\n",
    "m = km * .6213\n",
    "print(f\"{km} is equal to miles {m} \")"
   ]
  },
  {
   "cell_type": "code",
   "execution_count": 6,
   "id": "356f0e7d-7fb3-4982-ae31-daf56d5db77b",
   "metadata": {},
   "outputs": [
    {
     "name": "stdin",
     "output_type": "stream",
     "text": [
      "Enter a char s\n"
     ]
    },
    {
     "name": "stdout",
     "output_type": "stream",
     "text": [
      "Value of s is 115\n"
     ]
    }
   ],
   "source": [
    "# Write a Python program to find the ASCII value of a character.\n",
    "char = input(\"Enter a char\")\n",
    "if len(char) != 1:\n",
    "    print(\"Enter only one character\")\n",
    "else:\n",
    "    ascii_value = ord(char)\n",
    "print(f\"Value of {char} is {ascii_value}\")"
   ]
  },
  {
   "cell_type": "code",
   "execution_count": 10,
   "id": "c411631e-1bcc-4e14-89bf-275a9af315a8",
   "metadata": {},
   "outputs": [
    {
     "name": "stdin",
     "output_type": "stream",
     "text": [
      "Enter a year 2022\n"
     ]
    },
    {
     "name": "stdout",
     "output_type": "stream",
     "text": [
      "not a leap year\n"
     ]
    }
   ],
   "source": [
    "# Write a Python program to check if a year is a leap year.\n",
    "year  = int(input(\"Enter a year\"))\n",
    "if(year % 4 == 0):\n",
    "    print(\"It is a leap year\")\n",
    "else:\n",
    "    print(\"not a leap year\")"
   ]
  },
  {
   "cell_type": "code",
   "execution_count": 12,
   "id": "a26981d3-f32c-43f1-9599-5ea1841f1cad",
   "metadata": {},
   "outputs": [
    {
     "name": "stdout",
     "output_type": "stream",
     "text": [
      "[1, 4, 6, 9, 9, 74, 78, 777]\n"
     ]
    }
   ],
   "source": [
    "# Write a Python program to sort a list in ascending order.\n",
    "lst = [1,4,9,9,6,78,74,777]\n",
    "print(sorted(lst))"
   ]
  },
  {
   "cell_type": "code",
   "execution_count": 15,
   "id": "208d58b4-326a-4e8d-802b-4041954823f7",
   "metadata": {},
   "outputs": [
    {
     "name": "stdin",
     "output_type": "stream",
     "text": [
      "Enter a number here: 55,5,5,56,68,5,23,5,45\n"
     ]
    },
    {
     "name": "stdout",
     "output_type": "stream",
     "text": [
      "[5, 5, 5, 5, 23, 45, 55, 56, 68]\n"
     ]
    }
   ],
   "source": [
    "# Write a Python program to sort a list in ascending order.\n",
    "lst = list(map(int,input(\"Enter a number here:\").split(\",\")))\n",
    "print(sorted(lst))"
   ]
  },
  {
   "cell_type": "code",
   "execution_count": 16,
   "id": "54305590-ca44-4220-8a22-f71ecf83ceb0",
   "metadata": {},
   "outputs": [
    {
     "name": "stdin",
     "output_type": "stream",
     "text": [
      "Enter a list: 45,78,85,96,78,74,85,45\n"
     ]
    },
    {
     "name": "stdout",
     "output_type": "stream",
     "text": [
      "85\n"
     ]
    }
   ],
   "source": [
    "# Write a Python program to find the second largest element in a list.\n",
    "lst = list(map(int,input(\"Enter a list:\").split(\",\")))\n",
    "print(sorted(lst)[-2])"
   ]
  },
  {
   "cell_type": "code",
   "execution_count": 17,
   "id": "86813712-fea3-448a-b1f9-f6122e1e775e",
   "metadata": {},
   "outputs": [
    {
     "name": "stdin",
     "output_type": "stream",
     "text": [
      "Enter a list 1,2,3,4,5\n"
     ]
    },
    {
     "name": "stdout",
     "output_type": "stream",
     "text": [
      "15\n"
     ]
    }
   ],
   "source": [
    "#Write a Python program to find the sum of elements in a list.\n",
    "lst = list(map(int,input(\"Enter a list\").split(\",\")))\n",
    "print(sum(lst))"
   ]
  },
  {
   "cell_type": "code",
   "execution_count": 20,
   "id": "70c9239c-75c8-4cf0-b3e2-b6395ccf179a",
   "metadata": {},
   "outputs": [
    {
     "name": "stdin",
     "output_type": "stream",
     "text": [
      "Enter a list: 1 2 3 45 6\n"
     ]
    },
    {
     "name": "stdout",
     "output_type": "stream",
     "text": [
      "11.4\n"
     ]
    }
   ],
   "source": [
    "#Write a Python program to find the average of numbers in a list.\n",
    "lst = list(map(int,input(\"Enter a list:\").split()))\n",
    "print(sum(lst)/len(lst))"
   ]
  },
  {
   "cell_type": "code",
   "execution_count": 21,
   "id": "932e0f0a-8ea0-4c1e-bf43-85b2cae11241",
   "metadata": {},
   "outputs": [
    {
     "name": "stdin",
     "output_type": "stream",
     "text": [
      "Enter a list: 1 1 2 2 2 23 23 25 52  5 2 55\n",
      "enter a element 2\n"
     ]
    },
    {
     "name": "stdout",
     "output_type": "stream",
     "text": [
      "2 element occur this much time 4\n"
     ]
    }
   ],
   "source": [
    "#Write a Python program to count the occurrences of an element in a list.\n",
    "lst = list(map(int,input(\"Enter a list:\").split()))\n",
    "element = int(input(\"enter a element\"))\n",
    "o_no = lst.count(element)\n",
    "print(f\"{element} element occur this much time {o_no}\")"
   ]
  },
  {
   "cell_type": "code",
   "execution_count": 23,
   "id": "72b3543a-45e2-4870-9f5e-6727176e17c8",
   "metadata": {},
   "outputs": [
    {
     "name": "stdin",
     "output_type": "stream",
     "text": [
      "Enter a lst: 1 1 1 1 1 25 45\n"
     ]
    },
    {
     "name": "stdout",
     "output_type": "stream",
     "text": [
      "[1, 25, 45]\n"
     ]
    }
   ],
   "source": [
    "#Write a Python program to remove duplicates from a list.\n",
    "lst = list(map(int,input(\"Enter a lst:\").split()))\n",
    "unq = []\n",
    "for item in lst:\n",
    "    if item not in unq:\n",
    "        unq.append(item)\n",
    "print(unq)"
   ]
  },
  {
   "cell_type": "code",
   "execution_count": 25,
   "id": "112562f9-16cc-4542-ae0b-1272e3d4724e",
   "metadata": {},
   "outputs": [
    {
     "name": "stdout",
     "output_type": "stream",
     "text": [
      "{'a': 1, 'b': 2, 'c': 3, 'd': 4}\n"
     ]
    }
   ],
   "source": [
    "# Write a Python program to merge two dictionaries.\n",
    "a = {\"a\":1,\"b\":2}\n",
    "b = {\"c\":3,\"d\":4}\n",
    "a.update(b)\n",
    "print(a)"
   ]
  },
  {
   "cell_type": "code",
   "execution_count": 26,
   "id": "71be4bd1-3661-4743-86fb-4268544940bf",
   "metadata": {},
   "outputs": [
    {
     "name": "stdout",
     "output_type": "stream",
     "text": [
      "c\n"
     ]
    }
   ],
   "source": [
    "# Write a Python program to find the key with the maximum value in a dictionary\n",
    "a = {\"a\":1,\"b\":2,\"c\":3}\n",
    "maxi = max(a,key=a.get)\n",
    "print(maxi)"
   ]
  },
  {
   "cell_type": "code",
   "execution_count": 27,
   "id": "c04b408c-031c-487b-92d6-1cee048ee3ff",
   "metadata": {},
   "outputs": [
    {
     "name": "stdin",
     "output_type": "stream",
     "text": [
      "Enter a key: Relationship status\n"
     ]
    },
    {
     "name": "stdout",
     "output_type": "stream",
     "text": [
      "key is in my dict\n"
     ]
    }
   ],
   "source": [
    "# Write a Python program to check if a key exists in a dictionary.\n",
    "my_dict = {\"Name\":\"Siddharth\",\"Age\":21,\"Relationship status\":\"Confusing status\"}\n",
    "key = str(input(\"Enter a key:\"))\n",
    "if key in my_dict:\n",
    "    print(\"key is in my dict\")\n",
    "else:\n",
    "    print(\"key is not in my dict\")"
   ]
  },
  {
   "cell_type": "code",
   "execution_count": 32,
   "id": "ae5675dd-f8b1-4649-9f84-ad6aaba40e78",
   "metadata": {},
   "outputs": [
    {
     "name": "stdin",
     "output_type": "stream",
     "text": [
      "Enter a number: 25\n"
     ]
    },
    {
     "name": "stdout",
     "output_type": "stream",
     "text": [
      "Enter a fibonacii seqeuce 25 :\n",
      "01123581321"
     ]
    }
   ],
   "source": [
    "#Write a Python program to print the Fibonacci sequence up to a given number.\n",
    "number = int(input(\"Enter a number:\"))\n",
    "a,b = 0,1\n",
    "print(\"Enter a fibonacii seqeuce\",number,\":\")\n",
    "while a <= number:\n",
    "    print(a,end=\"\")\n",
    "    a,b = b,a+b"
   ]
  },
  {
   "cell_type": "code",
   "execution_count": 33,
   "id": "51a616b9-f266-43d3-a89c-599ece6defa4",
   "metadata": {},
   "outputs": [
    {
     "name": "stdin",
     "output_type": "stream",
     "text": [
      "Enter a list: 1 2 3 4 5\n"
     ]
    },
    {
     "name": "stdout",
     "output_type": "stream",
     "text": [
      "120\n"
     ]
    }
   ],
   "source": [
    "# Write a Python program to calculate the sum of a list using recursion.\n",
    "lst = list(map(int,input(\"Enter a list:\").split()))\n",
    "fact = 1\n",
    "for i in lst:\n",
    "    fact = fact*i\n",
    "print(fact)"
   ]
  },
  {
   "cell_type": "code",
   "execution_count": 34,
   "id": "affdbc1a-06e5-46f0-b663-cae5676bf67c",
   "metadata": {},
   "outputs": [
    {
     "name": "stdin",
     "output_type": "stream",
     "text": [
      "Enter a list 58,45,78,855,85,89,52,52,54,54,74,741\n"
     ]
    },
    {
     "name": "stdout",
     "output_type": "stream",
     "text": [
      "855\n",
      "45\n"
     ]
    }
   ],
   "source": [
    "# Write a Python program to find the minimum and maximum elements in a list.\n",
    "my_list = list(map(int,input(\"Enter a list\").split(\",\")))\n",
    "print(max(my_list))\n",
    "print(min(my_list))"
   ]
  },
  {
   "cell_type": "code",
   "execution_count": 37,
   "id": "9feb3527-72eb-43e8-847f-4802bb809835",
   "metadata": {},
   "outputs": [
    {
     "name": "stdin",
     "output_type": "stream",
     "text": [
      "Enter value of s1 listen\n",
      "Enter value of s2 silent\n"
     ]
    },
    {
     "name": "stdout",
     "output_type": "stream",
     "text": [
      "It is anagaram\n"
     ]
    }
   ],
   "source": [
    "#Write a Python program to check if a string is an anagram of another string.\n",
    "\n",
    "s1 = input(\"Enter value of s1\").replace(\" \",\"\").lower()\n",
    "s2 = input(\"Enter value of s2\").replace(\" \",\"\").lower()\n",
    "\n",
    "if sorted(s1) == sorted(s2):\n",
    "    print(\"It is anagaram\")\n",
    "else:\n",
    "    print(\"it is not anagaram\")"
   ]
  },
  {
   "cell_type": "code",
   "execution_count": 38,
   "id": "5ae4e43e-a037-43ff-944a-897f215820ef",
   "metadata": {},
   "outputs": [
    {
     "name": "stdin",
     "output_type": "stream",
     "text": [
      "Enter a char: siddharth\n"
     ]
    },
    {
     "name": "stdout",
     "output_type": "stream",
     "text": [
      "character frequncies:\n",
      "s:1\n",
      "i:1\n",
      "d:2\n",
      "h:2\n",
      "a:1\n",
      "r:1\n",
      "t:1\n"
     ]
    }
   ],
   "source": [
    "# Write a Python program to count the frequency of characters in a string.\n",
    "string = str(input(\"Enter a char:\"))\n",
    "freq = {}\n",
    "for char in string:\n",
    "    if char in freq:\n",
    "        freq[char] += 1\n",
    "    else:\n",
    "        freq[char] = 1\n",
    "print(\"character frequncies:\")\n",
    "for key,value in freq.items():\n",
    "    print(f\"{key}:{value}\")\n",
    "    "
   ]
  },
  {
   "cell_type": "code",
   "execution_count": 39,
   "id": "16b25861-7ffb-460b-b816-d92dd16e7d9a",
   "metadata": {},
   "outputs": [
    {
     "name": "stdin",
     "output_type": "stream",
     "text": [
      "Enter a list: 1,2,2,2,2,4,4,5,5\n"
     ]
    },
    {
     "name": "stdout",
     "output_type": "stream",
     "text": [
      "[1, 2, 4, 5]\n"
     ]
    }
   ],
   "source": [
    "#Write a Python program to find all unique elements in a list.\n",
    "lst = list(map(int,input(\"Enter a list:\").split(\",\")))\n",
    "unique = []\n",
    "for i in lst:\n",
    "    if i not in unique:\n",
    "        unique.append(i)\n",
    "print(unique)"
   ]
  },
  {
   "cell_type": "code",
   "execution_count": 48,
   "id": "3977c6dc-8462-418b-bfe1-59a66ba98ddf",
   "metadata": {},
   "outputs": [
    {
     "name": "stdin",
     "output_type": "stream",
     "text": [
      "Enter a list 1,2,3,4,5,6\n",
      "Enter a list 6,5,7\n"
     ]
    },
    {
     "name": "stdout",
     "output_type": "stream",
     "text": [
      "[5, 6]\n"
     ]
    }
   ],
   "source": [
    "#Write a Python program to find the intersection of two lists.\n",
    "list_1 = list(map(int,input(\"Enter a list\").split(\",\")))\n",
    "list_2 = list(map(int,input(\"Enter a list\").split(\",\")))\n",
    "my_list  = list(set(list_1) & set(list_2))\n",
    "print(my_list)"
   ]
  },
  {
   "cell_type": "code",
   "execution_count": 51,
   "id": "83f8e66a-26e4-4441-a676-5e03d6c4895d",
   "metadata": {},
   "outputs": [
    {
     "name": "stdin",
     "output_type": "stream",
     "text": [
      "Enter a lst: 1,1,1,1,2,2,2,3,3,5,5\n",
      "Enter a elemnet: 2\n"
     ]
    },
    {
     "name": "stdout",
     "output_type": "stream",
     "text": [
      "[1, 1, 1, 1, 3, 3, 5, 5]\n"
     ]
    }
   ],
   "source": [
    "#Write a Python program to remove all occurrences of a specific element from a list.\n",
    "lst = list(map(int,input(\"Enter a lst:\").split(\",\")))\n",
    "element = int(input(\"Enter a elemnet:\"))\n",
    "while element in lst:\n",
    "    lst.remove(element)\n",
    "print(lst)"
   ]
  },
  {
   "cell_type": "code",
   "execution_count": 54,
   "id": "46efeafa-1225-4c16-8236-211fb1c7d3f1",
   "metadata": {},
   "outputs": [
    {
     "name": "stdin",
     "output_type": "stream",
     "text": [
      "enter: 1,7,8,9,5,7\n"
     ]
    },
    {
     "name": "stdout",
     "output_type": "stream",
     "text": [
      "not sorted\n",
      "[1, 5, 7, 7, 8, 9]\n"
     ]
    }
   ],
   "source": [
    "#Write a Python program to check if a list is sorted.\n",
    "lst = list(map(int,input(\"enter:\").split(\",\")))\n",
    "if lst == sorted(lst):\n",
    "    print(\"Sorted list\")\n",
    "else:\n",
    "    print(\"not sorted\")\n",
    "print(sorted(lst))"
   ]
  },
  {
   "cell_type": "code",
   "execution_count": 55,
   "id": "51a35deb-a4b1-4bff-80ee-2baaddcd41e1",
   "metadata": {},
   "outputs": [
    {
     "name": "stdin",
     "output_type": "stream",
     "text": [
      "Enter a start number: 5\n",
      "Enter a end number: 55\n"
     ]
    },
    {
     "name": "stdout",
     "output_type": "stream",
     "text": [
      "the random  number between 5 55 is 39\n"
     ]
    }
   ],
   "source": [
    "# Write a Python program to generate random numbers within a range\n",
    "import random\n",
    "\n",
    "start = int(input(\"Enter a start number:\"))\n",
    "end = int(input(\"Enter a end number:\"))\n",
    "\n",
    "random_number = random.randint(start,end)\n",
    "print(f\"the random  number between {start} {end} is {random_number}\")"
   ]
  },
  {
   "cell_type": "code",
   "execution_count": 56,
   "id": "893a5762-2c03-48ce-afd1-4e6f1f8eb2da",
   "metadata": {},
   "outputs": [],
   "source": [
    "#Write a Python program to calculate the power of a number using recursion\n"
   ]
  },
  {
   "cell_type": "code",
   "execution_count": 57,
   "id": "56c241f9-d4d3-40e6-9cd5-3253230810a9",
   "metadata": {},
   "outputs": [
    {
     "name": "stdin",
     "output_type": "stream",
     "text": [
      "Enter a decimal number: 54\n"
     ]
    },
    {
     "name": "stdout",
     "output_type": "stream",
     "text": [
      " 110110\n"
     ]
    }
   ],
   "source": [
    "#Write a Python program to convert a decimal number to binary.\n",
    "decimal = int(input(\"Enter a decimal number:\"))\n",
    "\n",
    "binary = bin(decimal).replace(\"0b\",\" \")\n",
    "print(binary)"
   ]
  },
  {
   "cell_type": "code",
   "execution_count": 59,
   "id": "00e907b6-1135-4602-bc77-445d333ef28e",
   "metadata": {},
   "outputs": [
    {
     "name": "stdin",
     "output_type": "stream",
     "text": [
      "Enter a binary no: 110110\n"
     ]
    },
    {
     "name": "stdout",
     "output_type": "stream",
     "text": [
      "54\n"
     ]
    }
   ],
   "source": [
    "#Write a Python program to convert a binary number to decimal.\n",
    "binary = (input(\"Enter a binary no:\"))\n",
    "\n",
    "decimal = int(binary,2)\n",
    "print(decimal)"
   ]
  },
  {
   "cell_type": "code",
   "execution_count": 62,
   "id": "186ef505-f01c-4d5d-a055-df4ce47ca07e",
   "metadata": {},
   "outputs": [
    {
     "name": "stdin",
     "output_type": "stream",
     "text": [
      "Enter a list: 1 2 3 4 5 6 7 8\n"
     ]
    },
    {
     "name": "stdout",
     "output_type": "stream",
     "text": [
      "20\n",
      "16\n"
     ]
    }
   ],
   "source": [
    "#Write a Python program to find the sum of even and odd numbers in a list.\n",
    "lst = list(map(int,input(\"Enter a list:\").split()))\n",
    "even = []\n",
    "odd = []\n",
    "for num in lst:\n",
    "    if num % 2 == 0:\n",
    "        even.append(num)\n",
    "    else:\n",
    "        odd.append(num)\n",
    "print(sum(even))\n",
    "print(sum(odd))      \n"
   ]
  },
  {
   "cell_type": "code",
   "execution_count": 64,
   "id": "7e55cb97-a7a5-49eb-a331-80fb6d3ede9f",
   "metadata": {},
   "outputs": [
    {
     "name": "stdin",
     "output_type": "stream",
     "text": [
      "Enter a string sid is good boy\n"
     ]
    },
    {
     "name": "stdout",
     "output_type": "stream",
     "text": [
      "4\n"
     ]
    }
   ],
   "source": [
    "#Write a Python program to count the number of words in a string.\n",
    "string = input(\"Enter a string\")\n",
    "word  = string.split()\n",
    "print(len(word))"
   ]
  },
  {
   "cell_type": "code",
   "execution_count": 65,
   "id": "b5b74a15-2018-4070-81f5-192c589a429f",
   "metadata": {},
   "outputs": [
    {
     "name": "stdin",
     "output_type": "stream",
     "text": [
      "Enter a text siddharth is good boy\n"
     ]
    },
    {
     "name": "stdout",
     "output_type": "stream",
     "text": [
      "Siddharth Is Good Boy\n"
     ]
    }
   ],
   "source": [
    "#Write a Python program to capitalize the first letter of every word in a string.\n",
    "text = input(\"Enter a text\")\n",
    "cap_text = text.title()\n",
    "print(cap_text)"
   ]
  },
  {
   "cell_type": "code",
   "execution_count": 67,
   "id": "fd1ef0ef-a51c-4a87-ae7a-3bb3c6fe504b",
   "metadata": {},
   "outputs": [
    {
     "name": "stdin",
     "output_type": "stream",
     "text": [
      "Enter a text siddharth gelot is   good b   oy\n"
     ]
    },
    {
     "name": "stdout",
     "output_type": "stream",
     "text": [
      "siddharth gelot is  good b  oy\n"
     ]
    }
   ],
   "source": [
    "# Write a Python program to remove whitespace from a string.\n",
    "\n",
    "text = input(\"Enter a text\")\n",
    "without_space = text.replace(\"  \",\" \")\n",
    "print(without_space)"
   ]
  },
  {
   "cell_type": "code",
   "execution_count": 70,
   "id": "a23549c0-631c-41e1-a5fd-1dfc007d92e9",
   "metadata": {},
   "outputs": [
    {
     "name": "stdin",
     "output_type": "stream",
     "text": [
      "Enter a list: 2 2 2\n"
     ]
    },
    {
     "name": "stdout",
     "output_type": "stream",
     "text": [
      "8\n"
     ]
    }
   ],
   "source": [
    "#Write a Python program to calculate the product of elements in a list.\n",
    "lst = list(map(int,input(\"Enter a list:\").split()))\n",
    "count = 1\n",
    "for i in lst:\n",
    "    count *= i\n",
    "print(count)"
   ]
  },
  {
   "cell_type": "code",
   "execution_count": 72,
   "id": "ef465beb-a5b0-46ca-9773-a94a47faac51",
   "metadata": {},
   "outputs": [
    {
     "name": "stdin",
     "output_type": "stream",
     "text": [
      "Enter a start no 25\n",
      "Enter a end no 125\n"
     ]
    },
    {
     "name": "stdout",
     "output_type": "stream",
     "text": [
      "[25, 27, 29, 31, 33, 35, 37, 39, 41, 43, 45, 47, 49, 51, 53, 55, 57, 59, 61, 63, 65, 67, 69, 71, 73, 75, 77, 79, 81, 83, 85, 87, 89, 91, 93, 95, 97, 99, 101, 103, 105, 107, 109, 111, 113, 115, 117, 119, 121, 123]\n"
     ]
    }
   ],
   "source": [
    "#Write a Python program to find all prime numbers in a given range.\n",
    "start = int(input(\"Enter a start no\"))\n",
    "end = int(input(\"Enter a end no\"))\n",
    "prime = []\n",
    "for i in range(start,end):\n",
    "    if i > 1:\n",
    "        for num in range(2,i):\n",
    "            if i % num == 0:\n",
    "                break\n",
    "            else:\n",
    "                prime.append(i)\n",
    "                break\n",
    "print(prime)"
   ]
  },
  {
   "cell_type": "code",
   "execution_count": 73,
   "id": "2d0078ee-9a5c-44e1-91bc-6169fe54c949",
   "metadata": {},
   "outputs": [
    {
     "name": "stdin",
     "output_type": "stream",
     "text": [
      "Enter a lst 1 2 1 1 1 2\n"
     ]
    },
    {
     "name": "stdout",
     "output_type": "stream",
     "text": [
      "1\n"
     ]
    }
   ],
   "source": [
    "# Write a Python program to find the most frequent element in a list.\n",
    "lst = list(map(int,input(\"Enter a lst\").split()))\n",
    "frequect = max(lst,key=lst.count)\n",
    "print(frequect)"
   ]
  },
  {
   "cell_type": "markdown",
   "id": "865fe58a-9623-4f7f-80f4-a9e43976fa61",
   "metadata": {},
   "source": [
    "# list"
   ]
  },
  {
   "cell_type": "code",
   "execution_count": 74,
   "id": "01d26165-14d1-4fe8-bd84-4f0d606f7375",
   "metadata": {},
   "outputs": [
    {
     "name": "stdout",
     "output_type": "stream",
     "text": [
      "[1, 2, 3, 4, 5]\n"
     ]
    }
   ],
   "source": [
    "#Write a Python program to add an item to the end of a list.\n",
    "lst = [1,2,3,4]\n",
    "lst.append(5)\n",
    "print(lst)"
   ]
  },
  {
   "cell_type": "code",
   "execution_count": 5,
   "id": "2ab05501-299d-4698-9223-4052dec5a231",
   "metadata": {},
   "outputs": [
    {
     "name": "stdin",
     "output_type": "stream",
     "text": [
      "Enter a lst: 1 2 3 4 5 6 7 8\n"
     ]
    },
    {
     "name": "stdout",
     "output_type": "stream",
     "text": [
      "[1, 2, 55, 3, 4, 5, 6, 7, 8]\n"
     ]
    }
   ],
   "source": [
    "#Write a Python program to insert an item at a specified position in a list.\n",
    "my_list = list(map(int,input(\"Enter a lst:\").split()))\n",
    "my_list.insert(2,55)\n",
    "print(my_list)"
   ]
  },
  {
   "cell_type": "code",
   "execution_count": 6,
   "id": "ff0020a0-06d5-43aa-a0ee-1ff600c5ce56",
   "metadata": {},
   "outputs": [
    {
     "name": "stdin",
     "output_type": "stream",
     "text": [
      "Enter a list: 1 2 3 4 5 6 7\n"
     ]
    },
    {
     "name": "stdout",
     "output_type": "stream",
     "text": [
      "[2, 3, 4, 5, 6, 7]\n"
     ]
    }
   ],
   "source": [
    "#Write a Python program to remove the first occurrence of an item from a list.\n",
    "my_list = list(map(int,input(\"Enter a list:\").split()))\n",
    "my_list.pop(0)\n",
    "print(my_list)"
   ]
  },
  {
   "cell_type": "code",
   "execution_count": 7,
   "id": "f6705676-7c58-4392-96ea-284fa61374a5",
   "metadata": {},
   "outputs": [
    {
     "name": "stdin",
     "output_type": "stream",
     "text": [
      "Enter a list: 1 2 3 4 5 6\n"
     ]
    },
    {
     "name": "stdout",
     "output_type": "stream",
     "text": [
      "[]\n"
     ]
    }
   ],
   "source": [
    "#Write a Python program to remove all occurrences of an item from a list\n",
    "my_list = list(map(int,input(\"Enter a list:\").split()))\n",
    "my_list.clear()\n",
    "print(my_list)"
   ]
  },
  {
   "cell_type": "code",
   "execution_count": 12,
   "id": "6dc9159e-87ca-44a0-88aa-3de418ed4c88",
   "metadata": {},
   "outputs": [
    {
     "name": "stdin",
     "output_type": "stream",
     "text": [
      "Enter a list: 1 2 3 4 5 6\n",
      "Enter a item: 5\n"
     ]
    },
    {
     "name": "stdout",
     "output_type": "stream",
     "text": [
      "index of 5 is 4\n"
     ]
    }
   ],
   "source": [
    "#Write a Python program to find the index of the first occurrence of an element in a list.\n",
    "my_list = list(map(int,input(\"Enter a list:\").split()))\n",
    "item = int(input(\"Enter a item:\"))\n",
    "if item in my_list:\n",
    "    index = my_list.index(item)\n",
    "    print(f\"index of {item} is {index}\")\n",
    "else:\n",
    "    print(\"item not found\")"
   ]
  },
  {
   "cell_type": "code",
   "execution_count": 15,
   "id": "aaccc35b-7297-48b3-85f6-bc2fc4a3eab0",
   "metadata": {},
   "outputs": [
    {
     "name": "stdin",
     "output_type": "stream",
     "text": [
      "Enter a list: 1 1 1 1 2 2 2 2 4\n",
      "Enter a item: 2\n"
     ]
    },
    {
     "name": "stdout",
     "output_type": "stream",
     "text": [
      "4\n"
     ]
    }
   ],
   "source": [
    "#Write a Python program to find the count of an element in a list.\n",
    "my_list = list(map(int,input(\"Enter a list:\").split()))\n",
    "item = int(input(\"Enter a item:\"))\n",
    "count = my_list.count(item)\n",
    "print(count)"
   ]
  },
  {
   "cell_type": "code",
   "execution_count": 17,
   "id": "ea84130f-fbad-4b42-adb3-2d4ff796d9af",
   "metadata": {},
   "outputs": [
    {
     "name": "stdin",
     "output_type": "stream",
     "text": [
      "Enter a list: 1 2 3 4 5 6\n"
     ]
    },
    {
     "name": "stdout",
     "output_type": "stream",
     "text": [
      "[1, 2, 3, 4, 5, 6, 1, 2, 3]\n"
     ]
    }
   ],
   "source": [
    "#Write a Python program to append multiple items to a list.\n",
    "my_list = list(map(int,input(\"Enter a list:\").split()))\n",
    "my_list.extend([1,2,3])\n",
    "print(my_list)"
   ]
  },
  {
   "cell_type": "code",
   "execution_count": 18,
   "id": "745bf0b3-c241-4d88-a413-f9c744b967f6",
   "metadata": {},
   "outputs": [
    {
     "name": "stdin",
     "output_type": "stream",
     "text": [
      "Enter a list: 1 2 3 4\n",
      "Enter a list: 44 44 55 74\n"
     ]
    },
    {
     "name": "stdout",
     "output_type": "stream",
     "text": [
      "[1, 2, 3, 4, 44, 44, 55, 74]\n"
     ]
    }
   ],
   "source": [
    "my_list = list(map(int,input(\"Enter a list:\").split()))\n",
    "my_list2 = list(map(int,input(\"Enter a list:\").split()))\n",
    "my_list.extend(my_list2)\n",
    "print(my_list)"
   ]
  },
  {
   "cell_type": "code",
   "execution_count": 19,
   "id": "87ed179d-479e-49cf-bc9d-e95e3e9a87a8",
   "metadata": {},
   "outputs": [
    {
     "name": "stdin",
     "output_type": "stream",
     "text": [
      "Enter a list: 1 2 3\n",
      "Enter a list: 4 5 6\n"
     ]
    },
    {
     "name": "stdout",
     "output_type": "stream",
     "text": [
      "[1, 2, 3, 4, 5, 6]\n"
     ]
    }
   ],
   "source": [
    "#Write a Python program to extend a list by adding all items from another list.\n",
    "my_list = list(map(int,input(\"Enter a list:\").split()))\n",
    "my_list2 = list(map(int,input(\"Enter a list:\").split()))\n",
    "my_list.extend(my_list2)\n",
    "print(my_list)"
   ]
  },
  {
   "cell_type": "code",
   "execution_count": 20,
   "id": "ad888554-1d58-44bc-a296-4400dd449b4d",
   "metadata": {},
   "outputs": [
    {
     "name": "stdout",
     "output_type": "stream",
     "text": [
      "[0, 1, 2, 3, 4, 5, 6, 7, 8, 9]\n"
     ]
    }
   ],
   "source": [
    "#Write a Python program to create a list of numbers from 0 to 9.\n",
    "my_list = []\n",
    "for i in range(0,10):\n",
    "    my_list.append(i)\n",
    "print(my_list)"
   ]
  },
  {
   "cell_type": "code",
   "execution_count": 22,
   "id": "a28bc607-1252-44c7-95f5-7f69b61b44ad",
   "metadata": {},
   "outputs": [
    {
     "name": "stdin",
     "output_type": "stream",
     "text": [
      "Enter a list 99 98 97 96 95 94 93 92 91\n",
      "Enter a element: 95\n"
     ]
    },
    {
     "name": "stdout",
     "output_type": "stream",
     "text": [
      "My list contain that element\n"
     ]
    }
   ],
   "source": [
    "#Write a Python program to check if a list contains a specific element.\n",
    "my_list = list(map(int,input(\"Enter a list\").split()))\n",
    "element = int(input(\"Enter a element:\"))\n",
    "if element in my_list:\n",
    "    print(\"My list contain that element\")\n",
    "else:\n",
    "    print(\"not contain that element\")"
   ]
  },
  {
   "cell_type": "code",
   "execution_count": 23,
   "id": "eb0a96a1-4519-4730-a8ed-596abc6540cd",
   "metadata": {},
   "outputs": [
    {
     "name": "stdin",
     "output_type": "stream",
     "text": [
      "Enter a list: 1 2 3 4 56 7 8\n"
     ]
    },
    {
     "name": "stdout",
     "output_type": "stream",
     "text": [
      "56\n"
     ]
    }
   ],
   "source": [
    "#Write a Python program to find the maximum number in a list.\n",
    "my_list = list(map(int,input(\"Enter a list:\").split()))\n",
    "print(max(my_list))"
   ]
  },
  {
   "cell_type": "code",
   "execution_count": 24,
   "id": "d85653ff-adfb-4256-b328-2e6403c9ebbe",
   "metadata": {},
   "outputs": [
    {
     "name": "stdin",
     "output_type": "stream",
     "text": [
      "Enter a list 99 98 98 -7 -20\n"
     ]
    },
    {
     "name": "stdout",
     "output_type": "stream",
     "text": [
      "-20\n"
     ]
    }
   ],
   "source": [
    "#Write a Python program to find the minimum number in a list.\n",
    "my_list = list(map(int,input(\"Enter a list\").split()))\n",
    "print(min(my_list))"
   ]
  },
  {
   "cell_type": "code",
   "execution_count": 25,
   "id": "130536cd-8318-4537-9aeb-14c87b67445c",
   "metadata": {},
   "outputs": [
    {
     "name": "stdin",
     "output_type": "stream",
     "text": [
      "Enter a list 1 2 3 4 5 \n"
     ]
    },
    {
     "name": "stdout",
     "output_type": "stream",
     "text": [
      "15\n"
     ]
    }
   ],
   "source": [
    "#Write a Python program to find the sum of all elements in a list\n",
    "my_list = list(map(int,input(\"Enter a list\").split()))\n",
    "print(sum(my_list))"
   ]
  },
  {
   "cell_type": "code",
   "execution_count": 26,
   "id": "5f49e713-8699-422b-8a6f-4b06eb449b06",
   "metadata": {},
   "outputs": [
    {
     "name": "stdin",
     "output_type": "stream",
     "text": [
      "Enter a list: 1 2 3 4 56 4\n"
     ]
    },
    {
     "name": "stdout",
     "output_type": "stream",
     "text": [
      "11.666666666666666\n"
     ]
    }
   ],
   "source": [
    "#Write a Python program to get the average of numbers in a list.\n",
    "my_list = list(map(int,input(\"Enter a list:\").split()))\n",
    "print(sum(my_list)/len(my_list))"
   ]
  },
  {
   "cell_type": "code",
   "execution_count": 28,
   "id": "9957f904-9dea-478f-b57e-567fe6253579",
   "metadata": {},
   "outputs": [
    {
     "name": "stdin",
     "output_type": "stream",
     "text": [
      "Enter a list: 1 2 3 4 5 6\n"
     ]
    },
    {
     "name": "stdout",
     "output_type": "stream",
     "text": [
      "[1, 2, 3, 4, 5]\n"
     ]
    }
   ],
   "source": [
    "#Write a Python program to remove the last item from a list.\n",
    "my_list = list(map(int,input(\"Enter a list:\").split()))\n",
    "my_list.pop()\n",
    "print(my_list)"
   ]
  },
  {
   "cell_type": "code",
   "execution_count": 31,
   "id": "9d64efc3-f37d-461a-9052-ca8aafd49604",
   "metadata": {},
   "outputs": [
    {
     "name": "stdin",
     "output_type": "stream",
     "text": [
      "Enter a list: 1 2 3 4 5 6 78 \n",
      "enter a index number: 2\n"
     ]
    },
    {
     "name": "stdout",
     "output_type": "stream",
     "text": [
      "popped item 3\n",
      "my updated list [1, 2, 4, 5, 6, 78]\n"
     ]
    }
   ],
   "source": [
    "#Write a Python program to pop an item from a list by index.\n",
    "my_list = list(map(int,input(\"Enter a list:\").split()))\n",
    "index = int(input(\"enter a index number:\"))\n",
    "print(f\"popped item {my_list.pop(index)}\")\n",
    "print(f\"my updated list {my_list}\")"
   ]
  },
  {
   "cell_type": "code",
   "execution_count": 34,
   "id": "0b3a91f8-9227-425b-ba1b-73cd22435120",
   "metadata": {},
   "outputs": [
    {
     "name": "stdin",
     "output_type": "stream",
     "text": [
      "enter a list: 1 2 3 4 5 6\n"
     ]
    },
    {
     "name": "stdout",
     "output_type": "stream",
     "text": [
      "[6, 5, 4, 3, 2, 1]\n"
     ]
    }
   ],
   "source": [
    "#Write a Python program to reverse a liST\n",
    "list_1 = list(map(int,input(\"enter a list:\").split()))\n",
    "list_1.reverse()\n",
    "print(list_1)"
   ]
  },
  {
   "cell_type": "code",
   "execution_count": 35,
   "id": "2c41604f-05be-437b-8c01-2975a0112c22",
   "metadata": {},
   "outputs": [
    {
     "name": "stdin",
     "output_type": "stream",
     "text": [
      "enter a list: 1 2 3 4 5 6\n"
     ]
    },
    {
     "name": "stdout",
     "output_type": "stream",
     "text": [
      "[6, 5, 4, 3, 2, 1]\n"
     ]
    }
   ],
   "source": [
    "#Write a Python program to sort a list in descending order.\n",
    "list_1 = list(map(int,input(\"enter a list:\").split()))\n",
    "list_1.sort(reverse=True)\n",
    "print(list_1)"
   ]
  },
  {
   "cell_type": "code",
   "execution_count": 36,
   "id": "ecc9ab79-4570-46b7-91ac-e2ae506e9fb5",
   "metadata": {},
   "outputs": [
    {
     "name": "stdin",
     "output_type": "stream",
     "text": [
      "enter a list: 2 5 8 9 7 4\n"
     ]
    },
    {
     "name": "stdout",
     "output_type": "stream",
     "text": [
      "[9, 2, 7, 4, 5, 8]\n"
     ]
    }
   ],
   "source": [
    "#Write a Python program to shuffle a list randomly.\n",
    "import random\n",
    "list1 = list(map(int,input(\"enter a list:\").split()))\n",
    "random.shuffle(list1)\n",
    "print(list1)"
   ]
  },
  {
   "cell_type": "code",
   "execution_count": 37,
   "id": "21473652-2232-4bbd-bdd6-615789d49a7b",
   "metadata": {},
   "outputs": [
    {
     "name": "stdin",
     "output_type": "stream",
     "text": [
      "Enter a list: 1 2 3 5 5 55 66 7 7\n"
     ]
    },
    {
     "name": "stdout",
     "output_type": "stream",
     "text": [
      "[1, 2, 3, 5, 5, 55, 66, 7, 7]\n"
     ]
    }
   ],
   "source": [
    "#Write a Python program to copy a list.\n",
    "list1 = list(map(int,input(\"Enter a list:\").split()))\n",
    "copylist = list1.copy()\n",
    "print(copylist)"
   ]
  },
  {
   "cell_type": "code",
   "execution_count": 39,
   "id": "7a099739-c097-43ce-a6fd-e95859dd28b8",
   "metadata": {},
   "outputs": [
    {
     "name": "stdin",
     "output_type": "stream",
     "text": [
      "Enter a list: \n"
     ]
    },
    {
     "name": "stdout",
     "output_type": "stream",
     "text": [
      "it is empty list\n"
     ]
    }
   ],
   "source": [
    "#Write a Python program to check if a list is empty.\n",
    "list1 = list(map(int,input(\"Enter a list:\").split()))\n",
    "if not list1:\n",
    "    print(\"it is empty list\")\n",
    "else:\n",
    "    print(\"not empty list\")"
   ]
  },
  {
   "cell_type": "code",
   "execution_count": 42,
   "id": "dfd30dc7-4de8-452d-9dfa-2b9405cd6ec9",
   "metadata": {},
   "outputs": [
    {
     "name": "stdin",
     "output_type": "stream",
     "text": [
      "Enter a list: 4\n",
      "Enter a item 4\n"
     ]
    },
    {
     "name": "stdout",
     "output_type": "stream",
     "text": [
      "1\n"
     ]
    }
   ],
   "source": [
    "#Write a Python program to count the number of occurrences of an item in a list.\n",
    "list1 = list(map(int,input(\"Enter a list:\").split()))\n",
    "item = int(input(\"Enter a item\"))\n",
    "count = my_list.count(item)\n",
    "print(count)"
   ]
  },
  {
   "cell_type": "code",
   "execution_count": 43,
   "id": "83d3a051-bc8c-4a58-bb36-8d7e1f047fdd",
   "metadata": {},
   "outputs": [
    {
     "name": "stdin",
     "output_type": "stream",
     "text": [
      "Enter a list 1 1 1 2 2 2\n",
      "Enter a list 2 2 2 33 3 3\n"
     ]
    },
    {
     "name": "stdout",
     "output_type": "stream",
     "text": [
      "[2]\n"
     ]
    }
   ],
   "source": [
    "#Write a Python program to find the common elements between two lists.\n",
    "list1 = list(map(int,input(\"Enter a list\").split()))\n",
    "list2 = list(map(int,input(\"Enter a list\").split()))\n",
    "my_list = list(set(list1) & set(list2))\n",
    "print(my_list)"
   ]
  },
  {
   "cell_type": "code",
   "execution_count": 44,
   "id": "7e85f4ea-6aa9-4932-9675-5d0f8ef1f25d",
   "metadata": {},
   "outputs": [
    {
     "name": "stdin",
     "output_type": "stream",
     "text": [
      "Enter a list 1 2 3\n",
      "Enter a list 4 5 6\n"
     ]
    },
    {
     "name": "stdout",
     "output_type": "stream",
     "text": [
      "[1, 2, 3, 4, 5, 6]\n"
     ]
    }
   ],
   "source": [
    "#Write a Python program to merge two lists into a single list.\n",
    "list1 = list(map(int,input(\"Enter a list\").split()))\n",
    "list2 = list(map(int,input(\"Enter a list\").split()))\n",
    "list1.extend(list2)\n",
    "print(list1)"
   ]
  },
  {
   "cell_type": "code",
   "execution_count": 46,
   "id": "bdcea952-fca1-450a-aa45-909deb44dc08",
   "metadata": {},
   "outputs": [
    {
     "name": "stdin",
     "output_type": "stream",
     "text": [
      "Enter a list 1 1 1 2 2 2 5 5\n"
     ]
    },
    {
     "name": "stdout",
     "output_type": "stream",
     "text": [
      "[1, 2, 5]\n"
     ]
    }
   ],
   "source": [
    "#Write a Python program to remove duplicates from a list.\n",
    "list1 = list(map(int,input(\"Enter a list\").split()))\n",
    "unq = []\n",
    "for item in list1:\n",
    "    if item not in unq:\n",
    "        unq.append(item)\n",
    "print(unq)"
   ]
  },
  {
   "cell_type": "code",
   "execution_count": 51,
   "id": "e0522368-e4c2-42cb-b2a6-d3bc70a96b17",
   "metadata": {},
   "outputs": [
    {
     "name": "stdout",
     "output_type": "stream",
     "text": [
      "List of squares: [1, 4, 9, 16, 25, 36, 49, 64, 81, 100]\n"
     ]
    }
   ],
   "source": [
    "# Python program to create a list of squares from 1 to10\n",
    "squares = []  \n",
    "\n",
    "for i in range(1, 11):\n",
    "    square = i**2       \n",
    "    squares.append(square)  \n",
    "\n",
    "print(\"List of squares:\", squares)"
   ]
  },
  {
   "cell_type": "code",
   "execution_count": 55,
   "id": "95108e76-4b0a-4093-aa50-bbf1693d1391",
   "metadata": {},
   "outputs": [
    {
     "name": "stdin",
     "output_type": "stream",
     "text": [
      "Enter a list 1 2 3 4 5\n",
      "Enter a list 4 5\n"
     ]
    },
    {
     "name": "stdout",
     "output_type": "stream",
     "text": [
      "[5, 7]\n"
     ]
    }
   ],
   "source": [
    "#Write a Python program to create a new list with the sum of corresponding elements from two lists.\n",
    "list1 = list(map(int,input(\"Enter a list\").split()))\n",
    "list2 = list(map(int,input(\"Enter a list\").split()))\n",
    "\n",
    "my_list = []\n",
    "\n",
    "for i in range(min(len(list1),len(list2))):\n",
    "    my_list.append(list1[i]+list2[i])\n",
    "\n",
    "print(my_list)"
   ]
  },
  {
   "cell_type": "code",
   "execution_count": 56,
   "id": "fbd126f8-7d8e-43dd-8a5a-0ee342833bd8",
   "metadata": {},
   "outputs": [
    {
     "name": "stdout",
     "output_type": "stream",
     "text": [
      "[1, 2, 2, 3, 3, 5]\n"
     ]
    }
   ],
   "source": [
    "#Write a Python program to flatten a list of lists.\n",
    "nested_list = [[1,2], [2,3], [3,5]]\n",
    "flatten = []\n",
    "\n",
    "for sublist in nested_list:\n",
    "    for i in sublist:\n",
    "        flatten.append(i)\n",
    "print(flatten)"
   ]
  },
  {
   "cell_type": "code",
   "execution_count": 57,
   "id": "71bd4bb9-8805-407c-933a-be1e86d2ee76",
   "metadata": {},
   "outputs": [
    {
     "name": "stdin",
     "output_type": "stream",
     "text": [
      "Enter a word siddharth is that\n"
     ]
    },
    {
     "name": "stdout",
     "output_type": "stream",
     "text": [
      "['is', 'siddharth', 'that']\n"
     ]
    }
   ],
   "source": [
    "#Write a Python program to sort a list of strings in lexicographical order.\n",
    "my_list=input(\"Enter a word\").split()\n",
    "my_list.sort()\n",
    "print(my_list)\n"
   ]
  },
  {
   "cell_type": "code",
   "execution_count": 58,
   "id": "b038d366-8532-417d-9e4d-b3a322c75d66",
   "metadata": {},
   "outputs": [
    {
     "name": "stdin",
     "output_type": "stream",
     "text": [
      "Enter a list:  4 44 45\n"
     ]
    },
    {
     "name": "stdout",
     "output_type": "stream",
     "text": [
      "All elements are unique\n"
     ]
    }
   ],
   "source": [
    "#Write a Python program to check if a list contains only unique elements\n",
    "my_list = list(map(int, input(\"Enter a list: \").split()))\n",
    "\n",
    "if len(my_list) == len(set(my_list)):\n",
    "    print(\"All elements are unique\")\n",
    "else:\n",
    "    print(\"List contains duplicates\")"
   ]
  },
  {
   "cell_type": "markdown",
   "id": "afabf9a0-8248-4691-ab56-2257f517306a",
   "metadata": {},
   "source": [
    "# TUPLES"
   ]
  },
  {
   "cell_type": "code",
   "execution_count": 1,
   "id": "cfaf98dc-e55c-47ed-8c9f-5bfe31df5c5e",
   "metadata": {},
   "outputs": [
    {
     "data": {
      "text/plain": [
       "tuple"
      ]
     },
     "execution_count": 1,
     "metadata": {},
     "output_type": "execute_result"
    }
   ],
   "source": [
    "#Write a Python program to create a tuple.\n",
    "my_tuple = ()\n",
    "type(my_tuple)"
   ]
  },
  {
   "cell_type": "code",
   "execution_count": 4,
   "id": "4ca39e64-4074-43dc-8435-c299770e7969",
   "metadata": {},
   "outputs": [
    {
     "name": "stdin",
     "output_type": "stream",
     "text": [
      "Enter a tuple 1 2 5 8 6 siddharth\n"
     ]
    },
    {
     "name": "stdout",
     "output_type": "stream",
     "text": [
      "('1', '2', '5', '8', '6', 'siddharth')\n"
     ]
    },
    {
     "data": {
      "text/plain": [
       "tuple"
      ]
     },
     "execution_count": 4,
     "metadata": {},
     "output_type": "execute_result"
    }
   ],
   "source": [
    "#Write a Python program to create a tuple.\n",
    "my_tuple = tuple(input(\"Enter a tuple\").split())\n",
    "print(my_tuple)\n",
    "type(my_tuple)"
   ]
  },
  {
   "cell_type": "code",
   "execution_count": 8,
   "id": "09904ffb-af9b-481c-b9de-3d1420bb1f8a",
   "metadata": {},
   "outputs": [
    {
     "name": "stdin",
     "output_type": "stream",
     "text": [
      "Enter a tuple: 10 20 30 40\n"
     ]
    },
    {
     "name": "stdout",
     "output_type": "stream",
     "text": [
      "('10', '20', '30', '40')\n",
      "40\n"
     ]
    }
   ],
   "source": [
    "#Write a Python program to access elements of a tuple.\n",
    "my_tuple = tuple(input(\"Enter a tuple:\").split())\n",
    "print(my_tuple)\n",
    "print(my_tuple[-1])\n"
   ]
  },
  {
   "cell_type": "code",
   "execution_count": 9,
   "id": "a784e412-b2e5-498b-a61b-2e49f3342303",
   "metadata": {},
   "outputs": [
    {
     "name": "stdin",
     "output_type": "stream",
     "text": [
      "Enter a tuple 1 2 3 4 5 6 7 8\n"
     ]
    },
    {
     "name": "stdout",
     "output_type": "stream",
     "text": [
      "8\n"
     ]
    }
   ],
   "source": [
    "#Write a Python program to find the length of a tuple.\n",
    "my_tuple = tuple(input(\"Enter a tuple\").split())\n",
    "print(len(my_tuple))"
   ]
  },
  {
   "cell_type": "code",
   "execution_count": 10,
   "id": "57d67e0c-fafa-49b0-9425-0b8fd48b63ca",
   "metadata": {},
   "outputs": [
    {
     "name": "stdin",
     "output_type": "stream",
     "text": [
      "Enter a tuple 1 2 3 4 5\n",
      "Enter a tuple 6 7 8 9 10\n"
     ]
    },
    {
     "name": "stdout",
     "output_type": "stream",
     "text": [
      "('1', '2', '3', '4', '5', '6', '7', '8', '9', '10')\n"
     ]
    }
   ],
   "source": [
    "my_tuple = tuple(input(\"Enter a tuple\").split())\n",
    "my_tuple2 = tuple(input(\"Enter a tuple\").split())\n",
    "print(my_tuple+my_tuple2)"
   ]
  },
  {
   "cell_type": "code",
   "execution_count": 11,
   "id": "afe42610-cded-4c6d-af33-5d2cf3bd0733",
   "metadata": {},
   "outputs": [
    {
     "name": "stdin",
     "output_type": "stream",
     "text": [
      "enter a tuple 1 1 1 1 2 2 2 2 2 5 5 5\n",
      "give me no : 2\n"
     ]
    },
    {
     "name": "stdout",
     "output_type": "stream",
     "text": [
      "('1', '1', '1', '1', '2', '2', '2', '2', '2', '5', '5', '5')\n",
      "5\n"
     ]
    }
   ],
   "source": [
    "#Write a Python program to count the occurrence of an element in a tuple.\n",
    "my_tuple = tuple(input(\"enter a tuple\").split())\n",
    "item = input(\"give me no :\")\n",
    "print(my_tuple)\n",
    "print(my_tuple.count(item))"
   ]
  },
  {
   "cell_type": "code",
   "execution_count": 12,
   "id": "340d28a2-6e4b-4b16-8a5d-387b2839ff8f",
   "metadata": {},
   "outputs": [
    {
     "name": "stdin",
     "output_type": "stream",
     "text": [
      "Enter a tuple: 1 2 3 5 5 5 8\n",
      "Enter a item to check exit or not: 5\n"
     ]
    },
    {
     "name": "stdout",
     "output_type": "stream",
     "text": [
      "item exist\n"
     ]
    }
   ],
   "source": [
    "#Write a Python program to check if an element exists in a tuple.\n",
    "my_tuple = tuple(input(\"Enter a tuple:\").split())\n",
    "item = input(\"Enter a item to check exit or not:\")\n",
    "\n",
    "if item in my_tuple:\n",
    "    print(\"item exist\")\n",
    "else:\n",
    "    print(\"item does not exist\")"
   ]
  },
  {
   "cell_type": "code",
   "execution_count": 13,
   "id": "b79f5c34-0ce0-421f-8a48-647699706626",
   "metadata": {},
   "outputs": [
    {
     "name": "stdin",
     "output_type": "stream",
     "text": [
      "Enter a tuple:  1 2 3 4 5 6 7 8 9 10\n",
      "Enter a element to check there index no: 5\n"
     ]
    },
    {
     "name": "stdout",
     "output_type": "stream",
     "text": [
      "('1', '2', '3', '4', '5', '6', '7', '8', '9', '10')\n",
      "4\n"
     ]
    }
   ],
   "source": [
    "#Write a Python program to find the index of an element in a tuple.\n",
    "my_tuple = tuple(input(\"Enter a tuple: \").split())\n",
    "element = input(\"Enter a element to check there index no:\")\n",
    "print(my_tuple)\n",
    "print(my_tuple.index(element))"
   ]
  },
  {
   "cell_type": "code",
   "execution_count": 15,
   "id": "8f614074-ab7e-4201-95a7-dc40ffa1faf4",
   "metadata": {},
   "outputs": [
    {
     "name": "stdin",
     "output_type": "stream",
     "text": [
      "Enter a item: 5\n"
     ]
    },
    {
     "name": "stdout",
     "output_type": "stream",
     "text": [
      "('5',)\n",
      "<class 'tuple'>\n"
     ]
    }
   ],
   "source": [
    "#Write a Python program to create a tuple with a single element.\n",
    "my_tuple = tuple(input(\"Enter a item:\").split())\n",
    "print(my_tuple)\n",
    "print(type(my_tuple))"
   ]
  },
  {
   "cell_type": "code",
   "execution_count": 16,
   "id": "d2f41d53-49ad-44dc-b860-3231adc89b9f",
   "metadata": {},
   "outputs": [
    {
     "name": "stdin",
     "output_type": "stream",
     "text": [
      "enter tuple : 10 20 30\n"
     ]
    },
    {
     "name": "stdout",
     "output_type": "stream",
     "text": [
      "10 20 30\n"
     ]
    }
   ],
   "source": [
    "#Write a Python program to unpack a tuple into variables.\n",
    "my_tuple = tuple(input(\"enter tuple :\").split())\n",
    "a,b,c = my_tuple\n",
    "print(a,b,c)"
   ]
  },
  {
   "cell_type": "code",
   "execution_count": 17,
   "id": "fd5aa22c-b2f0-4c12-bbde-c25b2f1584a0",
   "metadata": {},
   "outputs": [
    {
     "name": "stdin",
     "output_type": "stream",
     "text": [
      "Enter a tuple: 10 20 30 40 50\n"
     ]
    },
    {
     "name": "stdout",
     "output_type": "stream",
     "text": [
      "('10', '20', '30', '40', '50')\n",
      "50\n"
     ]
    }
   ],
   "source": [
    "#Write a Python program to find the largest element in a tuple.\n",
    "my_tuple = tuple(input(\"Enter a tuple:\").split())\n",
    "print(my_tuple)\n",
    "print(max(my_tuple))"
   ]
  },
  {
   "cell_type": "code",
   "execution_count": 18,
   "id": "63972809-749a-4518-83b7-28db7595b332",
   "metadata": {},
   "outputs": [
    {
     "name": "stdin",
     "output_type": "stream",
     "text": [
      "Enter a tuple: 10 20 30 40 50\n"
     ]
    },
    {
     "name": "stdout",
     "output_type": "stream",
     "text": [
      "('10', '20', '30', '40', '50')\n",
      "10\n"
     ]
    }
   ],
   "source": [
    "#Write a Python program to find the smallest element in a tuple.\n",
    "my_tuple = tuple(input(\"Enter a tuple:\").split())\n",
    "print(my_tuple)\n",
    "print(min(my_tuple))"
   ]
  },
  {
   "cell_type": "code",
   "execution_count": 19,
   "id": "4f9b3bb3-cdaa-4bb0-858d-24a2f41aa2bd",
   "metadata": {},
   "outputs": [
    {
     "name": "stdin",
     "output_type": "stream",
     "text": [
      "Enter a tuple: 1 2 3 4 5 6 7 8 9 10\n"
     ]
    },
    {
     "name": "stdout",
     "output_type": "stream",
     "text": [
      "('1', '2', '3', '4', '5', '6', '7', '8', '9', '10')\n",
      "['1', '2', '3', '4', '5', '6', '7', '8', '9', '10']\n",
      "<class 'list'>\n"
     ]
    }
   ],
   "source": [
    "#Write a Python program to convert a tuple to a list.\n",
    "my_tuple = tuple(input(\"Enter a tuple:\").split())\n",
    "my_list = list(my_tuple)\n",
    "print(my_tuple)\n",
    "print(my_list)\n",
    "print(type(my_list))"
   ]
  },
  {
   "cell_type": "code",
   "execution_count": 20,
   "id": "524bcd7e-bf7c-425c-a850-bba49bda39e1",
   "metadata": {},
   "outputs": [
    {
     "name": "stdin",
     "output_type": "stream",
     "text": [
      "enter a tuple: \n"
     ]
    },
    {
     "name": "stdout",
     "output_type": "stream",
     "text": [
      "Tuple is empty\n"
     ]
    }
   ],
   "source": [
    "#Write a Python program to check if a tuple is empty.\n",
    "my_tuple = tuple(input(\"enter a tuple:\").split())\n",
    "if len(my_tuple) == 0:\n",
    "    print(\"Tuple is empty\")\n",
    "else:\n",
    "    print(\"Not empty\")"
   ]
  },
  {
   "cell_type": "code",
   "execution_count": 21,
   "id": "dd901c98-0605-4969-a7b4-ba39539e0121",
   "metadata": {},
   "outputs": [
    {
     "name": "stdin",
     "output_type": "stream",
     "text": [
      "Enter a list 1 2 3 4 5\n"
     ]
    },
    {
     "name": "stdout",
     "output_type": "stream",
     "text": [
      "['1', '2', '3', '4', '5']\n",
      "('1', '2', '3', '4', '5')\n",
      "<class 'tuple'>\n"
     ]
    }
   ],
   "source": [
    "#Write a Python program to create a tuple from a list.\n",
    "my_list = list(input(\"Enter a list\").split())\n",
    "my_tuple = tuple(my_list)\n",
    "print(my_list)\n",
    "print(my_tuple)\n",
    "print(type(my_tuple))"
   ]
  },
  {
   "cell_type": "code",
   "execution_count": 22,
   "id": "f4d3203a-879a-4baf-910f-0d6856fc6fc9",
   "metadata": {},
   "outputs": [
    {
     "name": "stdin",
     "output_type": "stream",
     "text": [
      "Enter a tuple: 1 2 3 4 5 6 7 8 9 10\n",
      "Enter item: 5\n"
     ]
    },
    {
     "name": "stdout",
     "output_type": "stream",
     "text": [
      "this updated tuple:('1', '2', '3', '4', '6', '7', '8', '9', '10')\n"
     ]
    }
   ],
   "source": [
    "#Write a Python program to remove an item from a tuple (using conversion)\n",
    "my_tuple = tuple(input(\"Enter a tuple:\").split())\n",
    "\n",
    "item = input(\"Enter item:\")\n",
    "\n",
    "my_list = list(my_tuple)\n",
    "\n",
    "if item in my_list:\n",
    "    my_list.remove(item)\n",
    "    my_tuple = tuple(my_list)\n",
    "    print(f\"this updated tuple:{my_tuple}\")\n",
    "else:\n",
    "    print(f\"item not found in tuple\")"
   ]
  },
  {
   "cell_type": "code",
   "execution_count": 23,
   "id": "37d18ab4-b53c-4c72-8837-04aa4bc2ef98",
   "metadata": {},
   "outputs": [
    {
     "name": "stdin",
     "output_type": "stream",
     "text": [
      "Enter a tuple: red blue black white\n"
     ]
    },
    {
     "name": "stdout",
     "output_type": "stream",
     "text": [
      "red\n",
      "blue\n",
      "black\n",
      "white\n"
     ]
    }
   ],
   "source": [
    "#Write a Python program to iterate through a tuple.\n",
    "my_tuple = tuple(input(\"Enter a tuple:\").split())\n",
    "for color in my_tuple:\n",
    "    print(color)"
   ]
  },
  {
   "cell_type": "code",
   "execution_count": 24,
   "id": "81c7f723-6641-462e-a466-7ec6639f19e7",
   "metadata": {},
   "outputs": [
    {
     "name": "stdin",
     "output_type": "stream",
     "text": [
      "Enter a strting no: 10\n",
      "enter a ending no: 25\n"
     ]
    },
    {
     "name": "stdout",
     "output_type": "stream",
     "text": [
      "10\n",
      "11\n",
      "12\n",
      "13\n",
      "14\n",
      "15\n",
      "16\n",
      "17\n",
      "18\n",
      "19\n",
      "20\n",
      "21\n",
      "22\n",
      "23\n",
      "24\n"
     ]
    }
   ],
   "source": [
    "#Write a Python program to create a tuple with numbers from 1 to 10.\n",
    "start = int(input(\"Enter a strting no:\"))\n",
    "end = int(input(\"enter a ending no:\"))\n",
    "\n",
    "for i in range(start,end):\n",
    "    print(i)"
   ]
  },
  {
   "cell_type": "code",
   "execution_count": 25,
   "id": "4eb84820-da4c-4cc1-b384-7cd8aa2ae648",
   "metadata": {},
   "outputs": [
    {
     "name": "stdin",
     "output_type": "stream",
     "text": [
      "Enter a tuple: 1 2 3 4 5 6 7 8 9 10\n"
     ]
    },
    {
     "name": "stdout",
     "output_type": "stream",
     "text": [
      "('1', '2', '3', '4', '5', '6', '7', '8', '9', '10')\n",
      "('3', '4', '5', '6', '7', '8', '9')\n"
     ]
    }
   ],
   "source": [
    "#Write a Python program to slice a tuple.\n",
    "my_tuple = tuple(input(\"Enter a tuple:\").split())\n",
    "print(my_tuple)\n",
    "print(my_tuple[2:-1])"
   ]
  },
  {
   "cell_type": "code",
   "execution_count": 30,
   "id": "dbeaf6a8-1000-427f-b37e-7d39f7db801a",
   "metadata": {},
   "outputs": [
    {
     "name": "stdin",
     "output_type": "stream",
     "text": [
      "Enter elements of tuple separated by space:  1 2 3 4 5 \n"
     ]
    },
    {
     "name": "stdout",
     "output_type": "stream",
     "text": [
      "(1, 2, 3, 4, 5)\n",
      "15\n"
     ]
    }
   ],
   "source": [
    "#Write a Python program to find the sum of elements in a tuple.\n",
    "my_tuple = tuple(map(int, input(\"Enter elements of tuple separated by space: \").split()))\n",
    "print(my_tuple)\n",
    "print(sum(my_tuple))"
   ]
  },
  {
   "cell_type": "code",
   "execution_count": 31,
   "id": "e793bd5f-c41a-4e27-934e-00a5a9a3c291",
   "metadata": {},
   "outputs": [
    {
     "name": "stdin",
     "output_type": "stream",
     "text": [
      "Enter elements of tuple separated by space:  1 2 3 4 5\n"
     ]
    },
    {
     "name": "stdout",
     "output_type": "stream",
     "text": [
      "(1, 2, 3, 4, 5)\n",
      "3.0\n"
     ]
    }
   ],
   "source": [
    "#Write a Python program to find the average of numbers in a tuple.\n",
    "my_tuple = tuple(map(int, input(\"Enter elements of tuple separated by space: \").split()))\n",
    "print(my_tuple)\n",
    "print(sum(my_tuple)/len(my_tuple))"
   ]
  },
  {
   "cell_type": "markdown",
   "id": "3c49984e-1cd8-4123-becd-ded8856bd338",
   "metadata": {},
   "source": [
    "# SET"
   ]
  },
  {
   "cell_type": "code",
   "execution_count": 2,
   "id": "904ddd93-85dd-4b00-9e26-51e7f187a2f9",
   "metadata": {},
   "outputs": [
    {
     "name": "stdin",
     "output_type": "stream",
     "text": [
      "enter a set 1 2 3\n"
     ]
    },
    {
     "name": "stdout",
     "output_type": "stream",
     "text": [
      "{'3', '1', '2'}\n"
     ]
    }
   ],
   "source": [
    "#Write a Python program to create a set.\n",
    "my_set = set(input(\"enter a set\").split())\n",
    "print(my_set)"
   ]
  },
  {
   "cell_type": "code",
   "execution_count": 3,
   "id": "42599e34-d87a-4f3d-8d78-bc5d962a5808",
   "metadata": {},
   "outputs": [
    {
     "name": "stdin",
     "output_type": "stream",
     "text": [
      "enter a set 1 2 3 4 5\n",
      "Enter a item 8\n"
     ]
    },
    {
     "name": "stdout",
     "output_type": "stream",
     "text": [
      "{'8', '4', '3', '5', '1', '2'}\n"
     ]
    }
   ],
   "source": [
    "#Write a Python program to add an item to a set.\n",
    "my_set = set(input(\"enter a set\").split())\n",
    "item = input(\"Enter a item\")\n",
    "my_set.add(item)\n",
    "print(my_set)"
   ]
  },
  {
   "cell_type": "code",
   "execution_count": 4,
   "id": "ad8d3509-2492-4ffa-895e-f7d6e82f019b",
   "metadata": {},
   "outputs": [
    {
     "name": "stdin",
     "output_type": "stream",
     "text": [
      "Enter a set: 1 2 3 4 5 6\n",
      "enter a item to remove: 5\n"
     ]
    },
    {
     "name": "stdout",
     "output_type": "stream",
     "text": [
      "{'4', '3', '1', '6', '2'}\n"
     ]
    }
   ],
   "source": [
    "#Write a Python program to remove an item from a set.\n",
    "my_set = set(input(\"Enter a set:\").split())\n",
    "item = input(\"enter a item to remove:\")\n",
    "my_set.remove(item)\n",
    "print(my_set)"
   ]
  },
  {
   "cell_type": "code",
   "execution_count": 8,
   "id": "27605665-40a5-4649-b0b6-1a7f613bd7ca",
   "metadata": {},
   "outputs": [
    {
     "name": "stdin",
     "output_type": "stream",
     "text": [
      "Enter a set: 1 2 3\n",
      "enter a set: 4 5 6\n"
     ]
    },
    {
     "name": "stdout",
     "output_type": "stream",
     "text": [
      "{'4', '3', '5', '6', '1', '2'}\n"
     ]
    }
   ],
   "source": [
    "#Write a Python program to find the union of two sets.\n",
    "my_set1 = set(input(\"Enter a set:\").split())\n",
    "my_set2 = set(input(\"enter a set:\").split())\n",
    "my_set = my_set1.union(my_set2)\n",
    "print(my_set)"
   ]
  },
  {
   "cell_type": "code",
   "execution_count": 9,
   "id": "167b31df-c343-49d3-9744-c47b49e6e9b8",
   "metadata": {},
   "outputs": [
    {
     "name": "stdin",
     "output_type": "stream",
     "text": [
      "enter a set 1 2 3 4\n",
      "Enter a set 3 4 5 6\n"
     ]
    },
    {
     "name": "stdout",
     "output_type": "stream",
     "text": [
      "{'4', '3'}\n"
     ]
    }
   ],
   "source": [
    "#Write a Python program to find the intersection of two sets.\n",
    "my_set1 = set(input(\"enter a set\").split())\n",
    "my_set2 = set(input(\"Enter a set\").split())\n",
    "my_set = my_set1.intersection(my_set2)\n",
    "print(my_set)"
   ]
  },
  {
   "cell_type": "code",
   "execution_count": 10,
   "id": "e5af8d04-70c8-4fdf-9317-0d09f36ee8a2",
   "metadata": {},
   "outputs": [
    {
     "name": "stdin",
     "output_type": "stream",
     "text": [
      "enter a set 1 2 3 4\n",
      "Enter a set 4 3 5 6\n"
     ]
    },
    {
     "name": "stdout",
     "output_type": "stream",
     "text": [
      "{'1', '2'}\n"
     ]
    }
   ],
   "source": [
    "#Write a Python program to find the difference between two sets.\n",
    "my_set1 = set(input(\"enter a set\").split())\n",
    "my_set2 = set(input(\"Enter a set\").split())\n",
    "my_set = my_set1.difference(my_set2)\n",
    "print(my_set)"
   ]
  },
  {
   "cell_type": "code",
   "execution_count": 14,
   "id": "8984c80e-a68d-44f3-8ca4-ba188c0bdfb1",
   "metadata": {},
   "outputs": [
    {
     "name": "stdin",
     "output_type": "stream",
     "text": [
      "Enter first set:  1 2 3\n",
      "Enter second set:  3 2 1\n"
     ]
    },
    {
     "name": "stdout",
     "output_type": "stream",
     "text": [
      "It is a subset\n"
     ]
    }
   ],
   "source": [
    "#Write a Python program to check if a set is a subset of another set.\n",
    "my_set1 = set(input(\"Enter first set: \").split())\n",
    "my_set2 = set(input(\"Enter second set: \").split())\n",
    "\n",
    "if my_set1.issubset(my_set2):\n",
    "    print(\"It is a subset\")\n",
    "else:\n",
    "    print(\"It is not a subset\")\n"
   ]
  },
  {
   "cell_type": "code",
   "execution_count": 15,
   "id": "e8e27017-a95a-44fd-b44d-0247c01c2140",
   "metadata": {},
   "outputs": [
    {
     "name": "stdin",
     "output_type": "stream",
     "text": [
      "enter a set 1 2 3\n",
      "Enter a set 3 2 1 5 6\n"
     ]
    },
    {
     "name": "stdout",
     "output_type": "stream",
     "text": [
      "it is not super subset\n"
     ]
    }
   ],
   "source": [
    "#Write a Python program to check if a set is a superset of another set\n",
    "my_set1 = set(input(\"enter a set\").split())\n",
    "my_set2 = set(input(\"Enter a set\").split())\n",
    "\n",
    "if my_set1.issuperset(my_set2):\n",
    "    print(\"It is super subset\")\n",
    "else:\n",
    "    print(\"it is not super subset\")"
   ]
  },
  {
   "cell_type": "code",
   "execution_count": 16,
   "id": "7281cae0-b820-4edf-b164-fa436904ea95",
   "metadata": {},
   "outputs": [
    {
     "name": "stdin",
     "output_type": "stream",
     "text": [
      "Enter first set:  1 2 3 4 5\n",
      "Enter second set:  6 7 8 9 10\n"
     ]
    },
    {
     "name": "stdout",
     "output_type": "stream",
     "text": [
      "{'2', '8', '4', '3', '5', '1', '10', '6', '9', '7'}\n"
     ]
    }
   ],
   "source": [
    "#Write a Python program to find the symmetric difference of two sets.\n",
    "my_set1 = set(input(\"Enter first set: \").split())\n",
    "my_set2 = set(input(\"Enter second set: \").split())\n",
    "\n",
    "my_setd = my_set1.symmetric_difference(my_set2)\n",
    "print(my_setd)\n"
   ]
  },
  {
   "cell_type": "code",
   "execution_count": 17,
   "id": "d8c73bf3-3b1c-489e-9c97-dd10389af693",
   "metadata": {},
   "outputs": [
    {
     "name": "stdin",
     "output_type": "stream",
     "text": [
      "enter a list 1 2 3 4 5\n"
     ]
    },
    {
     "name": "stdout",
     "output_type": "stream",
     "text": [
      "['1', '2', '3', '4', '5']\n",
      "{'4', '3', '5', '1', '2'}\n",
      "<class 'set'>\n"
     ]
    }
   ],
   "source": [
    "#Write a Python program to convert a list into a set.\n",
    "my_list = list(input(\"enter a list\").split())\n",
    "my_set = set(my_list)\n",
    "print(my_list)\n",
    "print(my_set)\n",
    "print(type(my_set))"
   ]
  },
  {
   "cell_type": "code",
   "execution_count": 18,
   "id": "70f1ab49-1fac-4bd0-a7d8-0793882ea6fd",
   "metadata": {},
   "outputs": [
    {
     "name": "stdin",
     "output_type": "stream",
     "text": [
      "enter a string siddharth\n"
     ]
    },
    {
     "name": "stdout",
     "output_type": "stream",
     "text": [
      "siddharth\n",
      "<class 'str'>\n",
      "{'r', 'a', 't', 'i', 's', 'h', 'd'}\n",
      "<class 'set'>\n"
     ]
    }
   ],
   "source": [
    "#Write a Python program to convert a string into a set of characters.\n",
    "string = input(\"enter a string\")\n",
    "my_set = set(string)\n",
    "print(string)\n",
    "print(type(string))\n",
    "print(my_set)\n",
    "print(type(my_set))"
   ]
  },
  {
   "cell_type": "code",
   "execution_count": 19,
   "id": "27acc00c-9440-49e8-80f8-2e0826ed4baf",
   "metadata": {},
   "outputs": [
    {
     "name": "stdin",
     "output_type": "stream",
     "text": [
      "enter set 1 2 3 5 7\n"
     ]
    },
    {
     "name": "stdout",
     "output_type": "stream",
     "text": [
      "5\n"
     ]
    }
   ],
   "source": [
    "#Write a Python program to find the length of a set.\n",
    "my_set = set(input(\"enter set\").split())\n",
    "print(len(my_set))"
   ]
  },
  {
   "cell_type": "code",
   "execution_count": 23,
   "id": "d036d8d6-57ac-4ed1-b8b6-e9f8e9e542bf",
   "metadata": {},
   "outputs": [
    {
     "name": "stdin",
     "output_type": "stream",
     "text": [
      "enter a set: \n"
     ]
    },
    {
     "name": "stdout",
     "output_type": "stream",
     "text": [
      "it is empty set\n"
     ]
    }
   ],
   "source": [
    "#Write a Python program to check if a set is empty.\n",
    "my_set = set(input(\"enter a set:\").split())\n",
    "if len(my_set) == 0:\n",
    "    print(\"it is empty set\")\n",
    "else:\n",
    "    print(\"not a empty\")"
   ]
  },
  {
   "cell_type": "code",
   "execution_count": 24,
   "id": "b8bc5427-b244-498b-971a-37fc4d8ca467",
   "metadata": {},
   "outputs": [
    {
     "name": "stdin",
     "output_type": "stream",
     "text": [
      "enter a set 1 2 3 4 5 6\n",
      "Enter a elemenet 5\n"
     ]
    },
    {
     "name": "stdout",
     "output_type": "stream",
     "text": [
      "{'4', '3', '1', '6', '2'}\n"
     ]
    }
   ],
   "source": [
    "#Write a Python program to remove all elements from a set.\n",
    "my_set = set(input(\"enter a set\").split())\n",
    "element = input(\"Enter a elemenet\")\n",
    "my_set.remove(element)\n",
    "print(my_set)"
   ]
  },
  {
   "cell_type": "code",
   "execution_count": 25,
   "id": "fe6c5264-de1d-475e-aff8-78a8231dd34a",
   "metadata": {},
   "outputs": [
    {
     "name": "stdin",
     "output_type": "stream",
     "text": [
      "Enter a set 1 2 3 4 5\n"
     ]
    },
    {
     "name": "stdout",
     "output_type": "stream",
     "text": [
      "set()\n"
     ]
    }
   ],
   "source": [
    "my_set = set(input(\"Enter a set\").split())\n",
    "my_set.clear()\n",
    "print(my_set)"
   ]
  },
  {
   "cell_type": "code",
   "execution_count": 26,
   "id": "ae411148-8311-46e1-87e2-01fc38bc6175",
   "metadata": {},
   "outputs": [
    {
     "name": "stdin",
     "output_type": "stream",
     "text": [
      "Enter a set 1 2 3 4\n",
      "enter a set 4 5 6 3\n"
     ]
    },
    {
     "name": "stdout",
     "output_type": "stream",
     "text": [
      "{'4', '3'}\n"
     ]
    }
   ],
   "source": [
    "#Write a Python program to find the common elements between two sets.\n",
    "my_set1 = set(input(\"Enter a set\").split())\n",
    "my_set2 = set(input(\"enter a set\").split())\n",
    "commom = my_set1.intersection(my_set2)\n",
    "print(commom)"
   ]
  },
  {
   "cell_type": "code",
   "execution_count": 27,
   "id": "72303e93-178a-4de5-b2a9-e6b2eaf7e81b",
   "metadata": {},
   "outputs": [
    {
     "name": "stdin",
     "output_type": "stream",
     "text": [
      "Enter a string: siddharth\n"
     ]
    },
    {
     "name": "stdout",
     "output_type": "stream",
     "text": [
      "{'r', 'a', 't', 'i', 's', 'h', 'd'}\n"
     ]
    }
   ],
   "source": [
    "#Write a Python program to create a set from a string.\n",
    "string = input(\"Enter a string:\")\n",
    "my_set = set(string)\n",
    "print(my_set)"
   ]
  },
  {
   "cell_type": "code",
   "execution_count": 36,
   "id": "d6de67ff-a73c-43e7-a81f-5ea9c369be50",
   "metadata": {},
   "outputs": [
    {
     "name": "stdin",
     "output_type": "stream",
     "text": [
      "enter a list 1 1 2 3 4\n"
     ]
    },
    {
     "name": "stdout",
     "output_type": "stream",
     "text": [
      "['4', '3', '1', '2']\n"
     ]
    }
   ],
   "source": [
    "#Write a Python program to remove duplicates from a list using sets.\n",
    "my_list = list(input(\"enter a list\").split())\n",
    "uniq_list = list(set(my_list))\n",
    "print(uniq_list)"
   ]
  },
  {
   "cell_type": "code",
   "execution_count": 40,
   "id": "e8e1f81c-40b2-4c36-805b-47dca58fe912",
   "metadata": {},
   "outputs": [
    {
     "name": "stdin",
     "output_type": "stream",
     "text": [
      "Enter a set:  1 2 3 4 56\n"
     ]
    },
    {
     "name": "stdout",
     "output_type": "stream",
     "text": [
      "Maximum: 56\n",
      "Minimum: 1\n"
     ]
    }
   ],
   "source": [
    "#Write a Python program to find the maximum and minimum in a set.\n",
    "my_set = set(map(int, input(\"Enter a set: \").split()))\n",
    "\n",
    "print(\"Maximum:\", max(my_set))\n",
    "print(\"Minimum:\", min(my_set))"
   ]
  },
  {
   "cell_type": "code",
   "execution_count": 41,
   "id": "88474030-6a89-463f-9b3a-c2ed7395c313",
   "metadata": {},
   "outputs": [
    {
     "name": "stdin",
     "output_type": "stream",
     "text": [
      "enter a set 1 2 3 4\n"
     ]
    },
    {
     "name": "stdout",
     "output_type": "stream",
     "text": [
      "4\n",
      "3\n",
      "1\n",
      "2\n"
     ]
    }
   ],
   "source": [
    "#Write a Python program to iterate through a set.\n",
    "my_set = set(input(\"enter a set\").split())\n",
    "for i in my_set:\n",
    "    print(i)"
   ]
  },
  {
   "cell_type": "code",
   "execution_count": 42,
   "id": "399a6843-1d29-4be4-8c27-04cc78a0c5e2",
   "metadata": {},
   "outputs": [
    {
     "name": "stdin",
     "output_type": "stream",
     "text": [
      "enter a set 1 2 3\n",
      "enter a set 4 5 6\n"
     ]
    },
    {
     "name": "stdout",
     "output_type": "stream",
     "text": [
      "yes\n"
     ]
    }
   ],
   "source": [
    "#Write a Python program to check if two sets are disjoint.\n",
    "my_set1 = set(input(\"enter a set\").split())\n",
    "my_set2 = set(input(\"enter a set\").split())\n",
    "if my_set1.isdisjoint(my_set2):\n",
    "    print(\"yes\")\n",
    "else:\n",
    "    print(\"no\")"
   ]
  },
  {
   "cell_type": "code",
   "execution_count": 43,
   "id": "9e50a20e-16f7-44b2-9135-f65bdb34d680",
   "metadata": {},
   "outputs": [
    {
     "name": "stdin",
     "output_type": "stream",
     "text": [
      "enter a item 1 2 3 4 5\n"
     ]
    },
    {
     "name": "stdout",
     "output_type": "stream",
     "text": [
      "{'4', '3', '5', '1', '2'}\n"
     ]
    }
   ],
   "source": [
    "#Write a Python program to add multiple items to a set.\n",
    "my_set = set()\n",
    "item = input(\"enter a item\").split()\n",
    "my_set.update(item)\n",
    "print(my_set)"
   ]
  },
  {
   "cell_type": "code",
   "execution_count": 44,
   "id": "f36e7216-2e79-4930-a4e1-802e9ecb4e90",
   "metadata": {},
   "outputs": [
    {
     "name": "stdin",
     "output_type": "stream",
     "text": [
      "Enter a set 1 2 3 4 5\n",
      "enter a element 3\n"
     ]
    },
    {
     "name": "stdout",
     "output_type": "stream",
     "text": [
      "present element\n"
     ]
    }
   ],
   "source": [
    "#Write a Python program to find if an element is present in a set.\n",
    "my_set = set(input(\"Enter a set\").split())\n",
    "element = input(\"enter a element\")\n",
    "if element in my_set:\n",
    "    print(\"present element\")\n",
    "else:\n",
    "    print(\"absent element\")"
   ]
  },
  {
   "cell_type": "code",
   "execution_count": 46,
   "id": "f8f76644-6164-42df-8d7d-0c43c912c5c2",
   "metadata": {},
   "outputs": [
    {
     "name": "stdin",
     "output_type": "stream",
     "text": [
      "enter a set 12 3 5 \n"
     ]
    },
    {
     "name": "stdout",
     "output_type": "stream",
     "text": [
      "{'3', '1', '2'}\n"
     ]
    }
   ],
   "source": [
    "#Write a Python program to make a copy of a set.\n",
    "my_set = set(input(\"enter a set\").split())\n",
    "my_set_copy = my_set.copy()\n",
    "print(my_set1)"
   ]
  },
  {
   "cell_type": "code",
   "execution_count": 47,
   "id": "eceddb20-3953-4b77-b806-926be7a822b1",
   "metadata": {},
   "outputs": [
    {
     "name": "stdin",
     "output_type": "stream",
     "text": [
      "enter a set 1 2 3\n",
      "enter a set 4 5 6\n"
     ]
    },
    {
     "name": "stdout",
     "output_type": "stream",
     "text": [
      "{'4', '3', '5', '6', '1', '2'}\n"
     ]
    }
   ],
   "source": [
    "#Write a Python program to update a set with another set.\n",
    "my_set1 = set(input(\"enter a set\").split())\n",
    "my_set2 = set(input(\"enter a set\").split())\n",
    "my_set1.update(my_set2)\n",
    "print(my_set1)"
   ]
  },
  {
   "cell_type": "code",
   "execution_count": 49,
   "id": "40071620-4e76-4194-a9e7-7bca015e70e8",
   "metadata": {},
   "outputs": [
    {
     "name": "stdin",
     "output_type": "stream",
     "text": [
      "enter a set 12 34\n",
      "enter a set 12 34\n"
     ]
    },
    {
     "name": "stdout",
     "output_type": "stream",
     "text": [
      "set()\n"
     ]
    }
   ],
   "source": [
    "#Write a Python program to find the difference between two sets.\n",
    "my_set1 = set(input(\"enter a set\").split())\n",
    "my_set2 = set(input(\"enter a set\").split())\n",
    "my_set=my_set1.difference(my_set2)\n",
    "print(my_set)"
   ]
  },
  {
   "cell_type": "markdown",
   "id": "1a80a5d0-a0a0-48bf-8b56-7359fccb925a",
   "metadata": {},
   "source": [
    "# __Dictionary__\n"
   ]
  },
  {
   "cell_type": "code",
   "execution_count": 51,
   "id": "d4a6536f-a845-4b9e-b578-bc6b186abf91",
   "metadata": {},
   "outputs": [
    {
     "data": {
      "text/plain": [
       "dict"
      ]
     },
     "execution_count": 51,
     "metadata": {},
     "output_type": "execute_result"
    }
   ],
   "source": [
    "#Write a Python program to create a dictionary.\n",
    "my_dict = dict()\n",
    "type(my_dict)\n"
   ]
  },
  {
   "cell_type": "code",
   "execution_count": 52,
   "id": "956c8e83-4a90-49a8-b8e6-c66b74e12ef3",
   "metadata": {},
   "outputs": [
    {
     "name": "stdin",
     "output_type": "stream",
     "text": [
      "enter a number how much item shoul u add: 3\n",
      "Enter a key: name\n",
      "Enter a value: sidd\n",
      "Enter a key: age\n",
      "Enter a value: 21\n",
      "Enter a key: number = 9316909811\n",
      "Enter a value: 9316909811\n"
     ]
    },
    {
     "name": "stdout",
     "output_type": "stream",
     "text": [
      "final dictionary:{'name': 'sidd', 'age': '21', 'number = 9316909811': '9316909811'}\n"
     ]
    }
   ],
   "source": [
    "my_dict = {}\n",
    "\n",
    "n = int(input(\"enter a number how much item shoul u add:\"))\n",
    "\n",
    "for i in range(n):\n",
    "    key = input(\"Enter a key:\")\n",
    "    value = input(\"Enter a value:\")\n",
    "    my_dict[key] = value\n",
    "\n",
    "print(f\"final dictionary:{my_dict}\")"
   ]
  },
  {
   "cell_type": "code",
   "execution_count": 56,
   "id": "16ffa120-f99a-4ad0-b4a1-b50f36abcc08",
   "metadata": {},
   "outputs": [
    {
     "name": "stdin",
     "output_type": "stream",
     "text": [
      "enter a number how much item you need: 2\n",
      "enter a key: name\n",
      "Enter a value sidd\n",
      "enter a key: age\n",
      "Enter a value 21\n"
     ]
    },
    {
     "name": "stdout",
     "output_type": "stream",
     "text": [
      "{'name': 'sidd', 'age': '21'}\n"
     ]
    },
    {
     "name": "stdin",
     "output_type": "stream",
     "text": [
      "Enter a search item: age\n"
     ]
    },
    {
     "name": "stdout",
     "output_type": "stream",
     "text": [
      "value for age is 21\n"
     ]
    }
   ],
   "source": [
    "#Write a Python program to access an item in a dictionary.\n",
    "\n",
    "my_dict = {}\n",
    "\n",
    "n = int(input(\"enter a number how much item you need:\"))\n",
    "\n",
    "for i in range(n):\n",
    "    key = input(\"enter a key:\")\n",
    "    value = input(\"Enter a value\")\n",
    "    my_dict[key] = value\n",
    "print(my_dict)\n",
    "search_item = input(\"Enter a search item:\")\n",
    "if search_item in my_dict:\n",
    "    print(f\"value for {search_item} is {my_dict[search_item]}\")"
   ]
  },
  {
   "cell_type": "code",
   "execution_count": 57,
   "id": "00c56760-1707-4d90-baad-0aa168649bd1",
   "metadata": {},
   "outputs": [
    {
     "name": "stdin",
     "output_type": "stream",
     "text": [
      "enter a value for number of item to add: 3\n",
      "Enter a key: name\n",
      "Enter a value: sidd\n",
      "Enter a key: age\n",
      "Enter a value: 21\n",
      "Enter a key: class\n",
      "Enter a value: 10\n"
     ]
    },
    {
     "name": "stdout",
     "output_type": "stream",
     "text": [
      "{'name': 'sidd', 'age': '21', 'class': '10'}\n",
      "3\n"
     ]
    }
   ],
   "source": [
    "#Write a Python program to find the length of a dictionary.\n",
    "my_dict = {}\n",
    "\n",
    "n = int(input(\"enter a value for number of item to add:\"))\n",
    "\n",
    "for i in range(n):\n",
    "    key = input(\"Enter a key:\")\n",
    "    value = input(\"Enter a value:\")\n",
    "    my_dict[key] = value\n",
    "print(my_dict)\n",
    "print(len(my_dict))"
   ]
  },
  {
   "cell_type": "code",
   "execution_count": 59,
   "id": "19a29383-3bac-40b0-b975-7f781d910a91",
   "metadata": {},
   "outputs": [
    {
     "name": "stdin",
     "output_type": "stream",
     "text": [
      "Enter a value for number of item to add: 2\n",
      "Enter a key: name \n",
      "Enter a value: sidd\n",
      "Enter a key: age\n",
      "Enter a value: 21\n"
     ]
    },
    {
     "name": "stdout",
     "output_type": "stream",
     "text": [
      "first dict {'name ': 'sidd', 'age': '21'}\n"
     ]
    },
    {
     "name": "stdin",
     "output_type": "stream",
     "text": [
      "enter a value to add no in dict: 2\n",
      "Enter a key class\n",
      "enter a value 12\n",
      "Enter a key state \n",
      "enter a value gujarat\n"
     ]
    },
    {
     "name": "stdout",
     "output_type": "stream",
     "text": [
      "second dict {'class': '12', 'state ': 'gujarat'}\n",
      "after add key value {'name ': 'sidd', 'age': '21', 'class': '12', 'state ': 'gujarat'}\n"
     ]
    }
   ],
   "source": [
    "#Write a Python program to update a key-value pair in a dictionary.\n",
    "my_dict = {}\n",
    "\n",
    "n = int(input(\"Enter a value for number of item to add:\"))\n",
    "\n",
    "for i in range(n):\n",
    "    key = input(\"Enter a key:\")\n",
    "    value = input(\"Enter a value:\")\n",
    "    my_dict[key] = value\n",
    "print(\"first dict\",my_dict)\n",
    "\n",
    "my_dict2 = {}\n",
    "v = int(input(\"enter a value to add no in dict:\"))\n",
    "\n",
    "for i in range(v):\n",
    "    key = input(\"Enter a key\")\n",
    "    value = input(\"enter a value\")\n",
    "    my_dict2[key] = value\n",
    "print(\"second dict\",my_dict2)\n",
    "\n",
    "\n",
    "my_dict.update(my_dict2)\n",
    "\n",
    "print(\"after add key value\",my_dict)\n"
   ]
  },
  {
   "cell_type": "code",
   "execution_count": 60,
   "id": "3c3a2d9c-1c4c-4ea5-bc7c-a5aaf08e5b99",
   "metadata": {},
   "outputs": [
    {
     "name": "stdout",
     "output_type": "stream",
     "text": [
      "Current Dictionary: {'name': 'Sidd', 'age': '22'}\n"
     ]
    },
    {
     "name": "stdin",
     "output_type": "stream",
     "text": [
      "Enter a new key:  class\n",
      "Enter a new value:  10\n"
     ]
    },
    {
     "name": "stdout",
     "output_type": "stream",
     "text": [
      "Updated Dictionary: {'name': 'Sidd', 'age': '22', 'class': '10'}\n"
     ]
    }
   ],
   "source": [
    "# Write a Python program to add a key-value pair to an existing dictionary\n",
    "\n",
    "my_dict = {\"name\": \"Sidd\", \"age\": \"22\"}\n",
    "\n",
    "print(\"Current Dictionary:\", my_dict)\n",
    "\n",
    "key = input(\"Enter a new key: \")\n",
    "value = input(\"Enter a new value: \")\n",
    "\n",
    "\n",
    "my_dict[key] = value\n",
    "\n",
    "print(\"Updated Dictionary:\", my_dict)"
   ]
  },
  {
   "cell_type": "code",
   "execution_count": 61,
   "id": "4323adf1-72a3-4ed8-828d-7733b918021c",
   "metadata": {},
   "outputs": [
    {
     "name": "stdin",
     "output_type": "stream",
     "text": [
      "Enter no if item to add in dict 3\n",
      "Enter a key name\n",
      "enter a value sidd\n",
      "Enter a key age\n",
      "enter a value 21\n",
      "Enter a key class\n",
      "enter a value 10\n"
     ]
    },
    {
     "name": "stdout",
     "output_type": "stream",
     "text": [
      "first dict {'name': 'sidd', 'age': '21', 'class': '10'}\n"
     ]
    },
    {
     "name": "stdin",
     "output_type": "stream",
     "text": [
      "enter a key which would you like to remove class\n"
     ]
    },
    {
     "name": "stdout",
     "output_type": "stream",
     "text": [
      "updated dict {'name': 'sidd', 'age': '21'}\n"
     ]
    }
   ],
   "source": [
    "#Write a Python program to remove a key from a dictionary.\n",
    "my_dict = {}\n",
    "\n",
    "n = int(input(\"Enter no if item to add in dict\"))\n",
    "\n",
    "for i in range(n):\n",
    "    key = input(\"Enter a key\")\n",
    "    value = input(\"enter a value\")\n",
    "    my_dict[key] = value\n",
    "print(\"first dict\",my_dict)\n",
    "\n",
    "re_value = input(\"enter a key which would you like to remove\")\n",
    "\n",
    "if re_value in my_dict:\n",
    "    my_dict.pop(re_value)\n",
    "    print(\"updated dict\",my_dict)\n",
    "else:\n",
    "    print(\"not item exict in dict\")"
   ]
  },
  {
   "cell_type": "code",
   "execution_count": 63,
   "id": "f9653f08-c927-492f-9001-0549e885f7a3",
   "metadata": {},
   "outputs": [
    {
     "name": "stdin",
     "output_type": "stream",
     "text": [
      "Enter no of item to add in dict: 2\n",
      "enter a key: NAME\n",
      "enter a key: SIDD\n",
      "enter a key: CLASS\n",
      "enter a key: 10\n"
     ]
    },
    {
     "name": "stdout",
     "output_type": "stream",
     "text": [
      "dict {'NAME': 'SIDD', 'CLASS': '10'}\n"
     ]
    },
    {
     "name": "stdin",
     "output_type": "stream",
     "text": [
      "enter a key: CLASS\n"
     ]
    },
    {
     "name": "stdout",
     "output_type": "stream",
     "text": [
      "Existing key\n"
     ]
    }
   ],
   "source": [
    "#Write a Python program to check if a key exists in a dictionary.\n",
    "\n",
    "my_dict = {}\n",
    "\n",
    "n = int(input(\"Enter no of item to add in dict:\"))\n",
    "\n",
    "for i in range(n):\n",
    "    key = input(\"enter a key:\")\n",
    "    value = input(\"enter a key:\")\n",
    "    my_dict[key] = value\n",
    "print(\"dict\",my_dict)\n",
    "\n",
    "key_exist = input(\"enter a key:\")\n",
    "\n",
    "if key_exist in my_dict:\n",
    "    print(\"Existing key\")\n",
    "else:\n",
    "    print(\"NOT Existing KEY\")"
   ]
  },
  {
   "cell_type": "code",
   "execution_count": 64,
   "id": "f8f1ec71-5a70-4f19-85bf-b9bad76d1922",
   "metadata": {},
   "outputs": [
    {
     "name": "stdin",
     "output_type": "stream",
     "text": [
      "Enter no of item to add in dict: 2\n",
      "enter a key: name \n",
      "enter a key: sidd\n",
      "enter a key: age\n",
      "enter a key: 21\n"
     ]
    },
    {
     "name": "stdout",
     "output_type": "stream",
     "text": [
      "dict {'name ': 'sidd', 'age': '21'}\n",
      "Keys of dictionary: dict_keys(['name ', 'age'])\n",
      "Keys as list: ['name ', 'age']\n"
     ]
    }
   ],
   "source": [
    "#Write a Python program to get the keys of a dictionary.\n",
    "\n",
    "my_dict = {}\n",
    "\n",
    "n = int(input(\"Enter no of item to add in dict:\"))\n",
    "\n",
    "for i in range(n):\n",
    "    key = input(\"enter a key:\")\n",
    "    value = input(\"enter a key:\")\n",
    "    my_dict[key] = value\n",
    "print(\"dict\",my_dict)\n",
    "\n",
    "keys = my_dict.keys()\n",
    "\n",
    "print(\"Keys of dictionary:\", keys)\n",
    "print(\"Keys as list:\", list(keys))\n",
    "    "
   ]
  },
  {
   "cell_type": "code",
   "execution_count": 1,
   "id": "5d1d6a88-fcf5-4857-ba77-c76f2960744a",
   "metadata": {},
   "outputs": [
    {
     "name": "stdin",
     "output_type": "stream",
     "text": [
      "Enter no of item to add in dict: 1\n",
      "enter a key: 1\n",
      "enter a key: 1\n"
     ]
    },
    {
     "name": "stdout",
     "output_type": "stream",
     "text": [
      "dict {'1': '1'}\n",
      "Dictionary values: dict_values(['1'])\n",
      "Values as list: ['1']\n"
     ]
    }
   ],
   "source": [
    "#Write a Python program to get the values of a dictionary.\n",
    "my_dict = {}\n",
    "\n",
    "n = int(input(\"Enter no of item to add in dict:\"))\n",
    "\n",
    "for i in range(n):\n",
    "    key = input(\"enter a key:\")\n",
    "    value = input(\"enter a key:\")\n",
    "    my_dict[key] = value\n",
    "print(\"dict\",my_dict)\n",
    "\n",
    "values = my_dict.values()\n",
    "\n",
    "# Print values\n",
    "print(\"Dictionary values:\", values)\n",
    "\n",
    "# If you want them as a list\n",
    "print(\"Values as list:\", list(values))"
   ]
  },
  {
   "cell_type": "code",
   "execution_count": 19,
   "id": "ab5a8919-7a91-466b-b930-6488e7fae09d",
   "metadata": {},
   "outputs": [
    {
     "name": "stdout",
     "output_type": "stream",
     "text": [
      "Iterating over keys:\n",
      "name\n",
      "age\n",
      "city\n",
      "\n",
      "Iterating over values:\n",
      "Alice\n",
      "30\n",
      "New York\n",
      "\n",
      "Iterating over key-value pairs:\n",
      "Key: name, Value: Alice\n",
      "Key: age, Value: 30\n",
      "Key: city, Value: New York\n"
     ]
    }
   ],
   "source": [
    "#Write a Python program to iterate through a dictionary.\n",
    "# Sample dictionary\n",
    "my_dict = {\n",
    "    'name': 'Alice',\n",
    "    'age': 30,\n",
    "    'city': 'New York'\n",
    "}\n",
    "\n",
    "# Iterate over keys\n",
    "print(\"Iterating over keys:\")\n",
    "for key in my_dict.keys():\n",
    "    print(key)\n",
    "\n",
    "# Iterate over values\n",
    "print(\"\\nIterating over values:\")\n",
    "for value in my_dict.values():\n",
    "    print(value)\n",
    "\n",
    "# Iterate over key-value pairs\n",
    "print(\"\\nIterating over key-value pairs:\")\n",
    "for key, value in my_dict.items():\n",
    "    print(f\"Key: {key}, Value: {value}\")\n"
   ]
  },
  {
   "cell_type": "code",
   "execution_count": 7,
   "id": "8474605d-c185-436c-aa19-2f45a4ee8ff1",
   "metadata": {},
   "outputs": [
    {
     "name": "stdin",
     "output_type": "stream",
     "text": [
      "enter a a no: 1\n",
      "enter a key name\n",
      "Enter a value sidd\n"
     ]
    },
    {
     "name": "stdout",
     "output_type": "stream",
     "text": [
      "{'name': 'sidd'}\n"
     ]
    },
    {
     "name": "stdin",
     "output_type": "stream",
     "text": [
      "enter a a no: 1\n",
      "enter a key age\n",
      "enter a value 21\n"
     ]
    },
    {
     "name": "stdout",
     "output_type": "stream",
     "text": [
      "{'age': '21'}\n",
      "{'name': 'sidd', 'age': '21'}\n"
     ]
    }
   ],
   "source": [
    "#Write a Python program to merge two dictionaries.\n",
    "\n",
    "my_dict1 = {}\n",
    "\n",
    "n = int(input(\"enter a a no:\"))\n",
    "\n",
    "for i in range(n):\n",
    "    key = input(\"enter a key\")\n",
    "    value = input(\"Enter a value\")\n",
    "    my_dict1[key] = value\n",
    "print(my_dict1)\n",
    "\n",
    "my_dict2 = {}\n",
    "\n",
    "v = int(input(\"enter a a no:\"))\n",
    "\n",
    "for i in range(v):\n",
    "    key = input(\"enter a key\")\n",
    "    value = input(\"enter a value\")\n",
    "    my_dict2[key] = value\n",
    "print(my_dict2)\n",
    "\n",
    "my_dict = {**my_dict1, **my_dict2}\n",
    "print(my_dict)"
   ]
  },
  {
   "cell_type": "code",
   "execution_count": 8,
   "id": "f5d7c117-6092-41c4-bd38-82282e9fcbbb",
   "metadata": {},
   "outputs": [
    {
     "name": "stdin",
     "output_type": "stream",
     "text": [
      "enter a no: 3\n",
      "enter a key 1\n",
      "enter a value 100\n",
      "enter a key 2\n",
      "enter a value 55\n",
      "enter a key 3\n",
      "enter a value 880\n"
     ]
    },
    {
     "name": "stdout",
     "output_type": "stream",
     "text": [
      "my dict: {'1': '100', '2': '55', '3': '880'}\n",
      "the maximum value is:3 and minimum value is:1\n"
     ]
    }
   ],
   "source": [
    "#Write a Python program to find the key with the maximum value in a dictionary.\n",
    "#Write a Python program to find the key with the minimum value in a dictionary.\n",
    "\n",
    "my_dict = {}\n",
    "\n",
    "n = int(input(\"enter a no:\"))\n",
    "\n",
    "for i in range(n):\n",
    "    key = input(\"enter a key\")\n",
    "    value = input(\"enter a value\")\n",
    "    my_dict[key] = value\n",
    "print(\"my dict:\",my_dict)\n",
    "\n",
    "max_value = max(my_dict,key = my_dict.get)\n",
    "\n",
    "min_value = min(my_dict,key = my_dict.get)\n",
    "\n",
    "print(f\"the maximum key value is:{max_value} and minimum key value is:{min_value}\")"
   ]
  },
  {
   "cell_type": "code",
   "execution_count": 11,
   "id": "4b50f0c4-5aee-4ec8-9085-1836dc7af4a0",
   "metadata": {},
   "outputs": [
    {
     "name": "stdin",
     "output_type": "stream",
     "text": [
      "Enter a number:  2\n",
      "Enter a key:  name\n",
      "Enter a value:  sidd\n",
      "Enter a key:  age\n",
      "Enter a value:  21\n"
     ]
    },
    {
     "name": "stdout",
     "output_type": "stream",
     "text": [
      "Before remove: {'name': 'sidd', 'age': '21'}\n",
      "After remove: {}\n"
     ]
    }
   ],
   "source": [
    "# Python program to remove all items from a dictionary\n",
    "\n",
    "# Create dictionary with user inputs\n",
    "my_dict = {}\n",
    "n = int(input(\"Enter a number: \"))\n",
    "for i in range(n):\n",
    "    key = input(\"Enter a key: \")\n",
    "    value = input(\"Enter a value: \")\n",
    "    my_dict[key] = value\n",
    "\n",
    "print(\"Before remove:\", my_dict)\n",
    "\n",
    "# Remove all items\n",
    "my_dict.clear()\n",
    "\n",
    "print(\"After remove:\", my_dict)\n"
   ]
  },
  {
   "cell_type": "code",
   "execution_count": 15,
   "id": "08b2493f-fb96-4a56-8201-e15a91312ca1",
   "metadata": {},
   "outputs": [
    {
     "name": "stdin",
     "output_type": "stream",
     "text": [
      "enter a no: 2\n",
      "enter a key: name\n",
      "enter a value sidd\n",
      "enter a key: age\n",
      "enter a value 21\n"
     ]
    },
    {
     "name": "stdout",
     "output_type": "stream",
     "text": [
      "{'name': 'sidd', 'age': '21'}\n",
      "{}\n"
     ]
    }
   ],
   "source": [
    "#Write a Python program to clear a dictionary.\n",
    "my_dict = {}\n",
    "\n",
    "n = int(input(\"enter a no:\"))\n",
    "\n",
    "for i in range(n):\n",
    "    key = input(\"enter a key:\")\n",
    "    value = input(\"enter a value\")\n",
    "    my_dict[key] = value\n",
    "print(my_dict)\n",
    "\n",
    "my_dict.clear()\n",
    "\n",
    "print(my_dict)"
   ]
  },
  {
   "cell_type": "code",
   "execution_count": 17,
   "id": "e4d6ce5d-ab04-447a-bccf-37064f58e9d0",
   "metadata": {},
   "outputs": [
    {
     "name": "stdin",
     "output_type": "stream",
     "text": [
      "enter a number : 3\n",
      "Enter a key: name\n",
      "Enter a value: sidd\n",
      "Enter a key: age\n",
      "Enter a value: 21\n",
      "Enter a key: clas\n",
      "Enter a value: 12\n"
     ]
    },
    {
     "name": "stdout",
     "output_type": "stream",
     "text": [
      "Brfore get item from dict {'name': 'sidd', 'age': '21', 'clas': '12'}\n",
      "item for dict [('name', 'sidd'), ('age', '21'), ('clas', '12')]\n"
     ]
    }
   ],
   "source": [
    "#Write a Python program to get the items of a dictionary.\n",
    "\n",
    "my_dict = {}\n",
    "\n",
    "n = int(input(\"enter a number :\"))\n",
    "\n",
    "for i in range(n):\n",
    "    key = input(\"Enter a key:\")\n",
    "    value = input(\"Enter a value:\")\n",
    "    my_dict[key] = value\n",
    "print(\"Brfore get item from dict\",my_dict)\n",
    "\n",
    "items = list(my_dict.items())\n",
    "\n",
    "print(\"item for dict\",items)"
   ]
  },
  {
   "cell_type": "code",
   "execution_count": 18,
   "id": "64d7e321-e7cc-4a47-9e4b-61dcb601b79c",
   "metadata": {},
   "outputs": [
    {
     "name": "stdin",
     "output_type": "stream",
     "text": [
      "enter a number: 3\n",
      "Enter a key: name\n",
      "enter a value: sidd\n",
      "Enter a key: age\n",
      "enter a value: 21\n",
      "Enter a key: class\n",
      "enter a value: 12\n"
     ]
    },
    {
     "name": "stdout",
     "output_type": "stream",
     "text": [
      "Before copying a dict {'name': 'sidd', 'age': '21', 'class': '12'}\n",
      "after copying a dict: {'name': 'sidd', 'age': '21', 'class': '12'}\n"
     ]
    }
   ],
   "source": [
    "#Write a Python program to copy a dictionary.\n",
    "\n",
    "my_dict = {}\n",
    "\n",
    "n = int(input(\"enter a number:\"))\n",
    "\n",
    "for i in range(n):\n",
    "    key = input(\"Enter a key:\")\n",
    "    value = input(\"enter a value:\")\n",
    "    my_dict[key] = value\n",
    "print(\"Before copying a dict\",my_dict)\n",
    "\n",
    "my_dict2 = my_dict.copy()\n",
    "\n",
    "print(\"after copying a dict:\",my_dict2)"
   ]
  },
  {
   "cell_type": "code",
   "execution_count": 20,
   "id": "f8c8b47b-fe0d-4057-8fcf-cb03a34a787e",
   "metadata": {},
   "outputs": [
    {
     "name": "stdin",
     "output_type": "stream",
     "text": [
      "enter a value of n: 3\n",
      "enter a key: name\n",
      "enter a value: sidd\n",
      "enter a key: age\n",
      "enter a value: 21\n",
      "enter a key: class\n",
      "enter a value: 11\n"
     ]
    },
    {
     "name": "stdout",
     "output_type": "stream",
     "text": [
      "Before changing a value: {'name': 'sidd', 'age': '21', 'class': '11'}\n"
     ]
    },
    {
     "name": "stdin",
     "output_type": "stream",
     "text": [
      "Enter a key to change: class\n",
      "enter a new value 12\n"
     ]
    },
    {
     "name": "stdout",
     "output_type": "stream",
     "text": [
      "After changing a value: {'name': 'sidd', 'age': '21', 'class': '12'}\n"
     ]
    }
   ],
   "source": [
    "#Write a Python program to change the value of a specific key in a dictionary.\n",
    "\n",
    "my_dict = {}\n",
    "\n",
    "n = int(input(\"enter a value of n:\"))\n",
    "\n",
    "for i in range(n):\n",
    "    key = input(\"enter a key:\")\n",
    "    value = input(\"enter a value:\")\n",
    "    my_dict[key] = value\n",
    "\n",
    "print(\"Before changing a value:\",my_dict)\n",
    "\n",
    "change_key = input(\"Enter a key to change:\")\n",
    "\n",
    "if change_key in my_dict:\n",
    "    new_value = input(\"enter a new value\")\n",
    "    my_dict[change_key] = new_value\n",
    "else:\n",
    "    print(\"key is not foundes\")\n",
    "\n",
    "print(\"After changing a value:\",my_dict)"
   ]
  },
  {
   "cell_type": "code",
   "execution_count": 21,
   "id": "831fe6ff-0bb0-4c2b-a0e8-cfab32cfdf70",
   "metadata": {},
   "outputs": [
    {
     "name": "stdin",
     "output_type": "stream",
     "text": [
      "enter a list: 1 2 3 4 5 6\n",
      "Enter a list: 7 8 9 10 11 12\n"
     ]
    },
    {
     "name": "stdout",
     "output_type": "stream",
     "text": [
      "{1: 7, 2: 8, 3: 9, 4: 10, 5: 11, 6: 12}\n"
     ]
    }
   ],
   "source": [
    "#Write a Python program to create a dictionary from two lists.\n",
    "\n",
    "my_list1 = list(map(int,input(\"enter a list:\").split()))\n",
    "my_list2 = list(map(int,input(\"Enter a list:\").split()))\n",
    "\n",
    "my_dict = dict(zip(my_list1,my_list2))\n",
    "\n",
    "print(my_dict)"
   ]
  },
  {
   "cell_type": "code",
   "execution_count": 22,
   "id": "f338ac5a-18fe-4266-ab69-2ee2dcd9ff34",
   "metadata": {},
   "outputs": [
    {
     "name": "stdin",
     "output_type": "stream",
     "text": [
      "Enter a no: 2\n",
      "Enter a key: age\n",
      "Enter a value: 21\n",
      "Enter a key: name\n",
      "Enter a value: sidd\n"
     ]
    },
    {
     "name": "stdout",
     "output_type": "stream",
     "text": [
      "{'age': '21', 'name': 'sidd'}\n",
      "not a empty:\n"
     ]
    }
   ],
   "source": [
    "#Write a Python program to check if a dictionary is empty.\n",
    "my_dict = {}\n",
    "\n",
    "n = int(input(\"Enter a no:\"))\n",
    "\n",
    "for i in range(n):\n",
    "    key = input(\"Enter a key:\")\n",
    "    value = input(\"Enter a value:\")\n",
    "    my_dict[key] = value\n",
    "print(my_dict)\n",
    "\n",
    "if not my_dict:\n",
    "    print(\"it is empty:\")\n",
    "else:\n",
    "    print(\"not a empty:\")"
   ]
  },
  {
   "cell_type": "code",
   "execution_count": null,
   "id": "ef35c010-02d4-4c0b-91c4-522de70fe23a",
   "metadata": {},
   "outputs": [],
   "source": []
  },
  {
   "cell_type": "code",
   "execution_count": 23,
   "id": "0a362bc2-a0ce-4dbd-8bca-acd658749214",
   "metadata": {},
   "outputs": [
    {
     "name": "stdin",
     "output_type": "stream",
     "text": [
      "Enter a n 2\n",
      "Enter a key: name\n",
      "Enter a value: sidd\n",
      "Enter a key: age\n",
      "Enter a value: 21\n"
     ]
    },
    {
     "name": "stdout",
     "output_type": "stream",
     "text": [
      "{'name': 'sidd', 'age': '21'}\n"
     ]
    },
    {
     "name": "stdin",
     "output_type": "stream",
     "text": [
      "Enter a n 2\n",
      "Enter a key: name\n",
      "Enter a value: sidd\n",
      "Enter a key: ge\n",
      "Enter a value: 21\n"
     ]
    },
    {
     "name": "stdout",
     "output_type": "stream",
     "text": [
      "{'name': 'sidd', 'age': '21'}\n",
      "True\n"
     ]
    }
   ],
   "source": [
    "#Write a Python program to find if two dictionaries are equal.\n",
    "\n",
    "def dict_equal(dict1,dict2):\n",
    "    return dict1 == dict2\n",
    "\n",
    "my_dict = {}\n",
    "\n",
    "n = int(input(\"Enter a n\"))\n",
    "\n",
    "for i in range(n):\n",
    "    key = input(\"Enter a key:\")\n",
    "    value = input(\"Enter a value:\")\n",
    "    my_dict[key] = value\n",
    "print(my_dict)\n",
    "\n",
    "\n",
    "my_dict1 = {}\n",
    "\n",
    "v = int(input(\"Enter a n\"))\n",
    "\n",
    "for i in range(v):\n",
    "    key = input(\"Enter a key:\")\n",
    "    value = input(\"Enter a value:\")\n",
    "    my_dict1[key] = value\n",
    "print(my_dict)\n",
    "\n",
    "print(dict_equal(my_dict,my_dict))"
   ]
  },
  {
   "cell_type": "code",
   "execution_count": 24,
   "id": "2ec0838a-eba6-4619-9a48-27683a820ea6",
   "metadata": {},
   "outputs": [
    {
     "name": "stdout",
     "output_type": "stream",
     "text": [
      "{'a': 1, 'b': 3, 'c': 4}\n"
     ]
    }
   ],
   "source": [
    "#Write a Python program to merge two dictionaries into one\n",
    "def merge_dicts(dict1, dict2):\n",
    "    merged = dict1.copy()  \n",
    "    merged.update(dict2)   \n",
    "    return merged\n",
    "\n",
    "dict_a = {'a': 1, 'b': 2}\n",
    "dict_b = {'b': 3, 'c': 4}\n",
    "print(merge_dicts(dict_a, dict_b)) \n"
   ]
  },
  {
   "cell_type": "code",
   "execution_count": 25,
   "id": "aabfae97-0cdc-438e-bc31-53bbbe4cac28",
   "metadata": {},
   "outputs": [
    {
     "name": "stdout",
     "output_type": "stream",
     "text": [
      "{'banana': 2, 'apple': 5, 'orange': 8}\n"
     ]
    }
   ],
   "source": [
    "#Write a Python program to sort a dictionary by value.\n",
    "def sort_dict_by_value(d):\n",
    "    return dict(sorted(d.items(), key=lambda item: item[1]))\n",
    "\n",
    "# Example\n",
    "dict_a = {'apple': 5, 'banana': 2, 'orange': 8}\n",
    "print(sort_dict_by_value(dict_a)) \n"
   ]
  },
  {
   "cell_type": "code",
   "execution_count": 29,
   "id": "21936d9c-4f5c-4f2d-8a6e-147587577b3d",
   "metadata": {},
   "outputs": [
    {
     "name": "stdout",
     "output_type": "stream",
     "text": [
      "{'a': 1, 'b': 2, 'c': 3}\n"
     ]
    }
   ],
   "source": [
    "#Write a Python program to sort a dictionary by key.\n",
    "def sort_dict_by_key(d):\n",
    "    return dict(sorted(d.items()))\n",
    "\n",
    "# Example\n",
    "dict_a = {'b': 2, 'a': 1, 'c': 3}\n",
    "print(sort_dict_by_key(dict_a)) \n",
    "\n"
   ]
  },
  {
   "cell_type": "code",
   "execution_count": 28,
   "id": "9c1ec12d-82e5-4367-b914-d98d42773900",
   "metadata": {},
   "outputs": [
    {
     "name": "stdout",
     "output_type": "stream",
     "text": [
      "{'x': 1, 'y': 2}\n"
     ]
    }
   ],
   "source": [
    "#Write a Python program to find the intersection of two dictionaries.\n",
    "def dict_intersection(dict1, dict2):\n",
    "    return {k: dict1[k] for k in dict1 if k in dict2 and dict1[k] == dict2[k]}\n",
    "\n",
    "dict_a = {'x': 1, 'y': 2, 'z': 3}\n",
    "dict_b = {'u': 1, 'v': 2, 'w': 3, 'x': 1, 'y': 2}\n",
    "print(dict_intersection(dict_a, dict_b)) \n"
   ]
  },
  {
   "cell_type": "code",
   "execution_count": null,
   "id": "40d0b2da-9bec-4fe9-beff-93ae79612196",
   "metadata": {},
   "outputs": [],
   "source": []
  }
 ],
 "metadata": {
  "kernelspec": {
   "display_name": "Python 3 (ipykernel)",
   "language": "python",
   "name": "python3"
  },
  "language_info": {
   "codemirror_mode": {
    "name": "ipython",
    "version": 3
   },
   "file_extension": ".py",
   "mimetype": "text/x-python",
   "name": "python",
   "nbconvert_exporter": "python",
   "pygments_lexer": "ipython3",
   "version": "3.12.7"
  }
 },
 "nbformat": 4,
 "nbformat_minor": 5
}
